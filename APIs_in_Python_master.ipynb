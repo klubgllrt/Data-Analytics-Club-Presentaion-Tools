{
  "nbformat": 4,
  "nbformat_minor": 0,
  "metadata": {
    "colab": {
      "name": "APIs in Python_master.ipynb",
      "version": "0.3.2",
      "provenance": [],
      "collapsed_sections": []
    },
    "kernelspec": {
      "name": "python3",
      "display_name": "Python 3"
    }
  },
  "cells": [
    {
      "cell_type": "markdown",
      "metadata": {
        "id": "fnMpYKr_9NmV",
        "colab_type": "text"
      },
      "source": [
        "# A brief overview of web data APIs and JSON\n",
        "---"
      ]
    },
    {
      "cell_type": "markdown",
      "metadata": {
        "id": "9zdrbOObs41t",
        "colab_type": "text"
      },
      "source": [
        "## Web Data APIs\n",
        "\n",
        ">When used in the context of web development, an API is typically a defined set of specifications, such as Hypertext Transfer Protocol (HTTP) request messages, along with a definition of the structure of response messages, which is usually in an Extensible Markup Language (XML) or JavaScript Object Notation (JSON) format.\n",
        "\n"
      ]
    },
    {
      "cell_type": "markdown",
      "metadata": {
        "id": "8Hq3WZgFtql7",
        "colab_type": "text"
      },
      "source": [
        "## Examples of Web APIs\n",
        "\n",
        "- [Twitter APIs](https://developer.twitter.com/en/docs.html)\n",
        "- [Data.gov APIs](https://api.data.gov/)\n",
        "- [The Star Wars API (SWAPI)](https://swapi.co/)\n",
        "- [Google Dataset Search](https://toolbox.google.com/datasetsearch/search?query=format%3Aapi)"
      ]
    },
    {
      "cell_type": "markdown",
      "metadata": {
        "id": "PLzMDo5jpgG3",
        "colab_type": "text"
      },
      "source": [
        "## JSON Data Types\n",
        "\n",
        "- Strings: `\"name\":\"Jacob\"`\n",
        "- Numbers: `\"age\":30`\n",
        "- Objects: `\"employee\": { \"name\":\"Jacob\", \"age\":30}`\n",
        "- Arrays: `\"employees\": [\"Jacob\", \"Walt\"]`\n",
        "- Booleans: `\"librarian\":true`\n",
        "\n",
        "[More on JSON Data Types](https://www.w3schools.com/js/js_json_datatypes.asp)"
      ]
    },
    {
      "cell_type": "markdown",
      "metadata": {
        "id": "lRdw1Y9sqlDP",
        "colab_type": "text"
      },
      "source": [
        "## Complex JSON Example\n",
        "\n",
        "```json\n",
        "{\n",
        "  \"paintings\": [\n",
        "    {\n",
        "      \"name\": \"The Scream\",\n",
        "      \"url\": \"https://en.wikipedia.org/wiki/The_Scream\",\n",
        "      \"creator\": {\n",
        "        \"@type\": \"Person\",\n",
        "        \"name\": \"Edvard Munch\",\n",
        "        \"sameAs\": \"https://en.wikipedia.org/wiki/Edvard_Munch\"\n",
        "      }\n",
        "    },\n",
        "    {\n",
        "      \"name\": \"Melancholy\",\n",
        "      \"url\": \"https://en.wikipedia.org/wiki/Melancholy_(Edvard_Munch)\",\n",
        "      \"creator\": {\n",
        "        \"@type\": \"Person\",\n",
        "        \"name\": \"Edvard Munch\",\n",
        "        \"sameAs\": \"https://en.wikipedia.org/wiki/Edvard_Munch\"\n",
        "      }\n",
        "    }\n",
        "  ]\n",
        "}\n",
        "```"
      ]
    },
    {
      "cell_type": "markdown",
      "metadata": {
        "id": "TTAccGYL9fZj",
        "colab_type": "text"
      },
      "source": [
        "# Lets do it\n",
        "---\n",
        "*This activity provides a general workflow of integrating a data API into a Python codebase. We will use the Python HTTP library 'requests' to access data from the [Star Wars API (SWAPI)](https://swapi.co/).*\n",
        "\n",
        "*See [Overview of Colaboratory Features](https://colab.research.google.com/notebooks/basic_features_overview.ipynb) for an overview of using Colaboratory.*"
      ]
    },
    {
      "cell_type": "markdown",
      "metadata": {
        "id": "L8RLvGv_n7OC",
        "colab_type": "text"
      },
      "source": [
        "## Set up and test the data API connection\n",
        "\n",
        "---\n",
        "\n",
        "To use the requests library it must first be **imported** into our code (note that the requests library is pre-installed in Colaboratory). To simplify the rest of our activities we will create a `baseUrl` variable that contains the root URL of all the requests we will make (determined from [SWAPI Documentation page](https://swapi.co/documentation#base)). We will test our connection to this URL to ensure we have a valid resource."
      ]
    },
    {
      "cell_type": "code",
      "metadata": {
        "id": "xy4BKHQJEyCh",
        "colab_type": "code",
        "colab": {}
      },
      "source": [
        "# Import the Python library 'requests'\n",
        "import requests\n",
        "\n",
        "# Set the base URL for the SWAPI, determined from the docs page. This is the\n",
        "# root resource.\n",
        "baseUrl = \"https://swapi.co/api/\"\n",
        "\n",
        "# Test a get request to the base URL (store in variable rTest)\n",
        "rTest = requests.get(baseUrl)\n",
        "\n",
        "# Print out the response on the next line\n",
        "rTest"
      ],
      "execution_count": 0,
      "outputs": []
    },
    {
      "cell_type": "markdown",
      "metadata": {
        "id": "GQQ_JOXW5D-K",
        "colab_type": "text"
      },
      "source": [
        "## Examine a response from the API\n",
        "\n",
        "---\n",
        "\n",
        "We will explore the ways in which we can decode data provided by a get request and figure out the best way to work with the SWAPI data."
      ]
    },
    {
      "cell_type": "markdown",
      "metadata": {
        "id": "T_4Pl3KjHFyb",
        "colab_type": "text"
      },
      "source": [
        "### Decoding data returned by a request\n",
        "\n",
        "We can access the data returned by our get request in a couple of ways..."
      ]
    },
    {
      "cell_type": "code",
      "metadata": {
        "id": "gEp5vVpNBUGJ",
        "colab_type": "code",
        "colab": {}
      },
      "source": [
        "# Raw data (rTest.raw)\n",
        "rTest.raw"
      ],
      "execution_count": 0,
      "outputs": []
    },
    {
      "cell_type": "code",
      "metadata": {
        "id": "KQVNCPr6RLBj",
        "colab_type": "code",
        "colab": {}
      },
      "source": [
        "# As bytes (rTest.content)\n",
        "rTest.content\n"
      ],
      "execution_count": 0,
      "outputs": []
    },
    {
      "cell_type": "code",
      "metadata": {
        "id": "rEEvJWLlRSXa",
        "colab_type": "code",
        "colab": {}
      },
      "source": [
        "# As a string (rTest.text)\n",
        "rTest.text"
      ],
      "execution_count": 0,
      "outputs": []
    },
    {
      "cell_type": "markdown",
      "metadata": {
        "id": "0dv6Q1oNDVwB",
        "colab_type": "text"
      },
      "source": [
        "The above data types are not very helpful or easy to work with if we want to analyze the data contained in the SWAPI resource. \n",
        "\n",
        "### Check out the SWAPI data encoding\n",
        "Every response from the API includes HTTP headers that provide some information about the response. We can print out this information and check out the **content type** of our response.\n"
      ]
    },
    {
      "cell_type": "code",
      "metadata": {
        "colab_type": "code",
        "id": "PJCc3SswDMIV",
        "colab": {}
      },
      "source": [
        "# Print out the request response headers\n",
        "rTest.headers # What is the content type?"
      ],
      "execution_count": 0,
      "outputs": []
    },
    {
      "cell_type": "markdown",
      "metadata": {
        "id": "R0xvl2Vb99Js",
        "colab_type": "text"
      },
      "source": [
        "### *Requests* JSON decoder\n",
        "\n",
        "The requests library has a built-in JSON decoder for request responses that consist of JSON data. This decoder will produce a [Python Dictionary](https://www.programiz.com/python-programming/dictionary) for easy integation into our code. A dictionary consists of **key/value pairs**—a structure very similar to JSON.\n",
        "\n"
      ]
    },
    {
      "cell_type": "code",
      "metadata": {
        "id": "lfyIORq02rYc",
        "colab_type": "code",
        "colab": {}
      },
      "source": [
        "# Decode the JSON data to a Python Dictionary\n",
        "testJson = rTest.json()\n",
        "\n",
        "# Print out the decoded data on the next line\n",
        "testJson"
      ],
      "execution_count": 0,
      "outputs": []
    },
    {
      "cell_type": "markdown",
      "metadata": {
        "id": "aPuOknjWWIXw",
        "colab_type": "text"
      },
      "source": [
        "### Test dictionary access by getting the value contained in the 'species' key of\n"
      ]
    },
    {
      "cell_type": "code",
      "metadata": {
        "id": "369ZJ5lpMLiq",
        "colab_type": "code",
        "colab": {}
      },
      "source": [
        "# Test dictionary access by getting the value contained in the 'species' key of\n",
        "# testJson\n",
        "#testJson['species']\n",
        "\n",
        "# Print out the keys of testJson\n",
        "# testJson.keys()\n",
        "\n",
        "# Print out each key: value pair contained in testJson\n",
        "for key, value in testJson.items():\n",
        "  print(\"key: \" + key + \", value: \" + value)"
      ],
      "execution_count": 0,
      "outputs": []
    },
    {
      "cell_type": "markdown",
      "metadata": {
        "id": "kcXdEBeILVHj",
        "colab_type": "text"
      },
      "source": [
        "##Get specific data\n",
        "---\n",
        "We will explore how to access multiple resources and a single resource from the SWAPI."
      ]
    },
    {
      "cell_type": "markdown",
      "metadata": {
        "id": "JC-DpiSPyW-O",
        "colab_type": "text"
      },
      "source": [
        "### Accessing multiple resources of one type\n",
        "The SWAPI consists of six resource types listed in the root resource (films, people, planets, species, starships, and vehicles). We can access a dictionary containing all resources of one type by calling the location of those resources. For example:\n",
        "```\n",
        "https://swapi.co/api/[resource_name]\n",
        "```"
      ]
    },
    {
      "cell_type": "code",
      "metadata": {
        "id": "CK_oN7ztIAtR",
        "colab_type": "code",
        "colab": {}
      },
      "source": [
        "# Get a list of the films from the API (located at https://swapi.co/api/films)\n",
        "films = requests.get(baseUrl + \"films\")\n",
        "films.json()"
      ],
      "execution_count": 0,
      "outputs": []
    },
    {
      "cell_type": "code",
      "metadata": {
        "id": "WiFqBVHJqAZj",
        "colab_type": "code",
        "colab": {}
      },
      "source": [
        "# HINT: use the JSON decoder provided by the requests library. The data for\n",
        "# each film is located in a key titled 'results'\n",
        "requests.get(baseUrl + \"films\").json()['results']"
      ],
      "execution_count": 0,
      "outputs": []
    },
    {
      "cell_type": "markdown",
      "metadata": {
        "id": "S_AY14vM0GPc",
        "colab_type": "text"
      },
      "source": [
        "### Accessing one resource of a specific type\n",
        "We can access a single resource of a specific type by calling the API at that specific resource's location. In the case of the SWAPI an individual resource is identified by calling a specific numerical id (`:id`) within the resource type (e.g., `.../[resource_name]/:id`). An id represents the location of that particular resource in the list of resources.\n",
        "\n"
      ]
    },
    {
      "cell_type": "code",
      "metadata": {
        "id": "m1YRu9aD0FY0",
        "colab_type": "code",
        "colab": {}
      },
      "source": [
        "# Get the fourth resource contained in the films resource\n",
        "requests.get(baseUrl + \"films/4\").json()"
      ],
      "execution_count": 0,
      "outputs": []
    },
    {
      "cell_type": "code",
      "metadata": {
        "id": "lpqZ-uAl57w6",
        "colab_type": "code",
        "colab": {}
      },
      "source": [
        "# HINT: use the JSON decoder provided by the requests library. The data for\n",
        "# a film is located in a key titled 'results'\n",
        "films2= requests.get(baseUrl + \"films/2\").json()\n",
        "\n",
        "print(films2['title'], films2['release_date'])"
      ],
      "execution_count": 0,
      "outputs": []
    },
    {
      "cell_type": "markdown",
      "metadata": {
        "id": "Z_tZ5M3P0vpr",
        "colab_type": "text"
      },
      "source": [
        "### Accessing resource metadata\n",
        "So far we have accessed resource data. What if you need to know what a particular key represents? For example, in the Films resource, what does data contained in 'opening_crawl' describe? We can access metadata about a specific resource by calling the 'schema' of a particular resource. The SWAPI provides a schema for each resource located at `.../[resource_name]/schema`\n"
      ]
    },
    {
      "cell_type": "code",
      "metadata": {
        "id": "0caimERaRvJj",
        "colab_type": "code",
        "colab": {}
      },
      "source": [
        "# Get the films schema\n",
        "filmsSchema = requests.get(baseUrl + \"films/schema\").json()\n",
        "filmsSchema"
      ],
      "execution_count": 0,
      "outputs": []
    },
    {
      "cell_type": "code",
      "metadata": {
        "id": "CO15ftxnVM_h",
        "colab_type": "code",
        "colab": {}
      },
      "source": [
        "\n",
        "for film in films.json()['results']:\n",
        "  if film['episode_id'] == 1:\n",
        "    print(film['title'])\n"
      ],
      "execution_count": 0,
      "outputs": []
    },
    {
      "cell_type": "markdown",
      "metadata": {
        "id": "XvFzMsin8Xop",
        "colab_type": "text"
      },
      "source": [
        "## Pagination and parameters\n",
        "---\n",
        "An API request has the possibility to return a lot of data. In order to ensure that requested data is returned efficiently many APIs have a mechanism to limit the total amount of data returned per request. Often, large datasets from an API are returned in smaller chunks as 'pages,' where each page contains a limited number of resources that successively compose the entire dataset (e.g., page 1 contains resources 1-10, page 2 contains resources 11-20, etc.).\n",
        "\n",
        "The SWAPI paginates large requests–requiring a specific page parameter to be called in order to access pages beyond page 1. Conveniently, the requests library provides a way to easily provide parameters when making a request."
      ]
    },
    {
      "cell_type": "markdown",
      "metadata": {
        "id": "F9Pu3o0-ABHR",
        "colab_type": "text"
      },
      "source": [
        "### Observe paginated results with the 'planets' resource\n",
        "We can see how SWAPI requests are paginated by requesting a large list of resources."
      ]
    },
    {
      "cell_type": "code",
      "metadata": {
        "id": "5MMgb6EOpBOz",
        "colab_type": "code",
        "colab": {}
      },
      "source": [
        "planets = requests.get(baseUrl + \"planets\").json()\n",
        "planets"
      ],
      "execution_count": 0,
      "outputs": []
    },
    {
      "cell_type": "code",
      "metadata": {
        "id": "rrnXXHhItHLo",
        "colab_type": "code",
        "colab": {}
      },
      "source": [
        "len(planets['results'])\n",
        "planets['count']"
      ],
      "execution_count": 0,
      "outputs": []
    },
    {
      "cell_type": "markdown",
      "metadata": {
        "id": "PWhP6OjYW7sC",
        "colab_type": "text"
      },
      "source": [
        "### Requesting a specific page with query parameters\n",
        "\n",
        "The SWAPI provides access to a specific numbered page of resource results using a URL query string. A query string consists of the URL resource being requested followed by a question mark and key/value pairs representing query structures. For example, a URL to request the 2nd page of the planets resource would be written:\n",
        "\n",
        "```\n",
        "https://swapi.co/api/planets?page=2\n",
        "```\n",
        "\n",
        "Where the key is represented by `page` and the value is `2`. Many APIs provide the ability to make a request with multiple query paramenters.\n"
      ]
    },
    {
      "cell_type": "code",
      "metadata": {
        "id": "Z13d-cmqA--n",
        "colab_type": "code",
        "colab": {}
      },
      "source": [
        "planets3=requests.get(baseUrl + \"planet?page=3\").json()\n",
        "planets3"
      ],
      "execution_count": 0,
      "outputs": []
    },
    {
      "cell_type": "markdown",
      "metadata": {
        "id": "MVGqQ5T2cv6R",
        "colab_type": "text"
      },
      "source": [
        "The request library provides a more programmatic way to include query parameters in a URL request with the keyword argument `params`. You can include query parameters by providing a Dictionary containing key/vlaue pairs that represent the key/value pairs of your query.\n",
        "\n",
        "For example, the previous query for the 3rd page of the planets resource would be constructed:\n",
        "```\n",
        "requests.get(baseUrl + 'planets', params={\"page\": 3})\n",
        "```\n"
      ]
    },
    {
      "cell_type": "markdown",
      "metadata": {
        "id": "gQbCkfvfmkt6",
        "colab_type": "text"
      },
      "source": [
        "**TODO: Use the code cell below to make a request to the 7th page of the planets resource using the request library `params` keyword argument and print the decoded results**"
      ]
    },
    {
      "cell_type": "code",
      "metadata": {
        "id": "DsiIgqGHnBYF",
        "colab_type": "code",
        "colab": {}
      },
      "source": [
        "requests.get(baseUrl + 'planets', params={\"page\": 7}).json()"
      ],
      "execution_count": 0,
      "outputs": []
    },
    {
      "cell_type": "markdown",
      "metadata": {
        "id": "KHhw5zD9OVZD",
        "colab_type": "text"
      },
      "source": [
        "### Accessing all data from a paginated resource\n",
        "\n",
        "To access all of the data from a paginated resource we have to make a call to each individual page. This could be done by writing a call to each page as individual lines of code:\n",
        "\n",
        "```\n",
        "requests.get(baseUrl + 'planets', params={\"page\": 1})\n",
        "requests.get(baseUrl + 'planets', params={\"page\": 2})\n",
        "...\n",
        "requests.get(baseUrl + 'planets', params={\"page\": 7})\n",
        "```\n",
        "\n",
        "This code is not concise and this structure would not be feasible if the dataset is extremely large. Instead, we can use information returned from a page request to determine if another page is available and, if available, request the next page. Repeatedly perfroming this action would provide data for all pages including the intially requested page.\n",
        "\n",
        "The SWAPI provides a key value of `next` for each page request that contains the URL of the location of the next successive page of data for this resource, if there is a next page (*look at the `next` key value printed in the two previous cells to see what the value is when another page is available and when it is not*). Using the value stored in `next` we can write a loop to succesively request a page while another page is available. For the planets resource, this could be set up as shown below.\n",
        "\n",
        "This code will store all the planet data in a variable named **`allPlanets`**."
      ]
    },
    {
      "cell_type": "code",
      "metadata": {
        "id": "hN4q7v6ac0_e",
        "colab_type": "code",
        "colab": {}
      },
      "source": [
        "# Set the initial page number to request\n",
        "pageNum = 1\n",
        "\n",
        "# Create an initial request to the set page of the planets resource\n",
        "initialRequest = requests.get(baseUrl + 'planets',\n",
        "                              params={\"page\": pageNum}).json()\n",
        "\n",
        "# Store the list of results\n",
        "allPlanets = initialRequest['results']\n",
        "\n",
        "# Get value the contained in next\n",
        "nextPage = initialRequest['next']\n",
        "\n",
        "# Create a loop that runs while nextPage does not equal None\n",
        "while (nextPage != None):\n",
        "  # Increment the pageNum value by one\n",
        "  pageNum += 1\n",
        "  \n",
        "  # Make a new request with the updated page number\n",
        "  planets = requests.get(baseUrl + 'planets', params={'page': pageNum}).json()\n",
        "  \n",
        "  # Add the list of results from this request to the existing list\n",
        "  allPlanets.extend(planets['results'])\n",
        "  \n",
        "  # Get value the contained in next\n",
        "  nextPage = planets['next']\n",
        "\n",
        "# Check that we have the correct number of planets in allPlanets\n",
        "print(\"Length of allPlanets: \" + str(len(allPlanets)))\n",
        "allPlanets"
      ],
      "execution_count": 0,
      "outputs": []
    },
    {
      "cell_type": "markdown",
      "metadata": {
        "id": "wuesmXlzyVDU",
        "colab_type": "text"
      },
      "source": [
        "This code can be generalized to create a function that we can use to request all the resources of one type:"
      ]
    },
    {
      "cell_type": "code",
      "metadata": {
        "id": "s8xKF5ueLUWM",
        "colab_type": "code",
        "colab": {}
      },
      "source": [
        "def getAllResources(resourceName):\n",
        "  '''\n",
        "    Return all resources of the type 'resourceName' from the SWAPI\n",
        "    Valid values are: films, people, planets, species, starships, vehicles\n",
        "  '''\n",
        "  allResources = []\n",
        "  nextPage = '1'\n",
        "  pageNum = 1\n",
        "  while (nextPage != None):\n",
        "    resourcePage = requests.get(baseUrl + resourceName, params={'page': pageNum}).json()\n",
        "    allResources.extend(resourcePage.get('results'))\n",
        "    pageNum += 1\n",
        "    nextPage = resourcePage.get('next')\n",
        "  return allResources"
      ],
      "execution_count": 0,
      "outputs": []
    },
    {
      "cell_type": "markdown",
      "metadata": {
        "id": "rHyVgVYDsWF-",
        "colab_type": "text"
      },
      "source": [
        "**TODO: Use the cell below to test the function `getAllResources` to fetch all the data from the `people` resource.**"
      ]
    },
    {
      "cell_type": "code",
      "metadata": {
        "id": "9N7092MfLoNH",
        "colab_type": "code",
        "colab": {}
      },
      "source": [
        "allPlanets=getAllResources('planets')\n",
        "allPlanets"
      ],
      "execution_count": 0,
      "outputs": []
    },
    {
      "cell_type": "markdown",
      "metadata": {
        "id": "uNWXraL780Tc",
        "colab_type": "text"
      },
      "source": [
        "## The search parameter\n",
        "\n",
        "Another common feature of data APIs is the ability to search resources using query parameters. The SWAPI provides limited search capabilities on certain fields for each resource. For example, you can search the `person` resource using the `name` field. Similar to page requests, a search can be implemented using a query string with the key name `search` and a search string value. For example, to search for the name Luke:\n",
        "\n",
        "\n",
        "```\n",
        "https://swapi.co/api/people/?search=luke\n",
        "```\n",
        "\n",
        "According to the SWAPI documentation, searches are case-insensitive partial matches.\n"
      ]
    },
    {
      "cell_type": "code",
      "metadata": {
        "id": "y9H6l-5a-ydu",
        "colab_type": "code",
        "colab": {}
      },
      "source": [
        "requests.get(baseUrl+\"people\", params={\"search\": \"fett\"}).json()"
      ],
      "execution_count": 0,
      "outputs": []
    },
    {
      "cell_type": "markdown",
      "metadata": {
        "id": "te2ZYays5o8I",
        "colab_type": "text"
      },
      "source": [
        "## Using SWAPI data in Python\n",
        "\n",
        "We will briefly cover formatting, analyzing, and graphing data from an API. Often the data obtained 'as is' from an API will need further processing in order to conduct analyses. The SWAPI data we are working with provides a good test example of common transformations that might need to be performed on similar data obtained from an API."
      ]
    },
    {
      "cell_type": "markdown",
      "metadata": {
        "id": "0z8WIvp8Gmn0",
        "colab_type": "text"
      },
      "source": [
        "### Import specialized Python libraries for working with data\n",
        "We will import two popular libraries for working with and graphing data in Python:\n",
        "\n",
        "* **Pandas** - a data analysis library ([Pandas user guide](http://pandas.pydata.org/pandas-docs/stable/user_guide/index.html))\n",
        "* **Matplotlib** - a Python 2D plotting library ([Matplotlib user guide](https://matplotlib.org/users/index.html))"
      ]
    },
    {
      "cell_type": "code",
      "metadata": {
        "id": "XEGQZXbsouhJ",
        "colab_type": "code",
        "colab": {}
      },
      "source": [
        "import pandas as pd\n",
        "import matplotlib.pyplot as plt"
      ],
      "execution_count": 0,
      "outputs": []
    },
    {
      "cell_type": "markdown",
      "metadata": {
        "id": "aJ9_uHrMaSkI",
        "colab_type": "text"
      },
      "source": [
        "### Creating a Pandas DataFrame\n",
        "Pandas provides the DataFrame data structure as a way to more easily work with two-dimensional tabular data (rows and columns). We can quickly convert a list of dictionaries to a DataFrame by calling the Pandas DataFrame function:\n",
        "```\n",
        "df = pd.DataFrame([list_name])\n",
        "```\n"
      ]
    },
    {
      "cell_type": "code",
      "metadata": {
        "id": "iZZjwQM5IEC-",
        "colab_type": "code",
        "colab": {}
      },
      "source": [
        "planets_df = pd.DataFrame(allPlanets)\n",
        "planets_df"
      ],
      "execution_count": 0,
      "outputs": []
    },
    {
      "cell_type": "markdown",
      "metadata": {
        "id": "Ok-iqmBejdVd",
        "colab_type": "text"
      },
      "source": [
        "### Reformatting data for graphing\n",
        "With a DataFrame we have access to functions to modify our dataset. We will remove unnecessary data fields (coulmns), edit existing fields, and create new data fields from existing fields."
      ]
    },
    {
      "cell_type": "markdown",
      "metadata": {
        "id": "IZ1XkqKmlVBQ",
        "colab_type": "text"
      },
      "source": [
        "#### Creating a new field\n",
        "A new field can be added to an existing DataFrame. We will create a new field called `film_count` in `planets_df` that contains the number of films in which each planet appears. This value can be computed from the existing `films` field using the `apply` function. We will use the following line of code to create a new field and compute the values:\n",
        "```python\n",
        "planets_df[\"film_count\"] = planets_df.films.apply(lambda x: len(x))\n",
        "```\n",
        "We first declare a new field in planets_df (`planets_df[\"film_count\"]`) to store the results of our computation. We then take the field films in planets_df (`planets_df.films`) and apply a function to each value in this field to compute the length of each list of films a planet is featured in (`.apply(lambda x: len(x))`).\n",
        "\n"
      ]
    },
    {
      "cell_type": "code",
      "metadata": {
        "id": "U3CKSTYlovbF",
        "colab_type": "code",
        "colab": {}
      },
      "source": [
        ""
      ],
      "execution_count": 0,
      "outputs": []
    },
    {
      "cell_type": "markdown",
      "metadata": {
        "id": "BlvhQpkgov2o",
        "colab_type": "text"
      },
      "source": [
        "#### Removing unecesary fields and rearrange data\n",
        "We are not interested in all the data in our dataset. We can remove unnecessary fields using the DataFrame function `drop` and indicating which column names to remove. The drop function returns the existing DataFrame with the indicated columns removed. This is completed as follows:\n",
        "```python\n",
        "planets_drop = planets_df.drop(columns=[\"name\", \"climate\", \"created\", \"films\",\n",
        "                                        \"edited\", \"gravity\", \"residents\",\n",
        "                                        \"terrain\", \"url\"])\n",
        "```\n",
        "We first declare a new DataFrame `planets_drop`. We then call the drop method on planets_df and indicate the columns to drop using the keyword `columns` and set a list of column names we want to remove from the original `planets_df` DataFrame.\n",
        "\n"
      ]
    },
    {
      "cell_type": "code",
      "metadata": {
        "id": "9li5BzeFqAKX",
        "colab_type": "code",
        "colab": {}
      },
      "source": [
        "# A List of the columns to be dropped\n",
        "dropColumns = [\"name\", \"climate\", \"created\", \"films\", \"edited\", \"gravity\",\n",
        "               \"residents\", \"terrain\", \"url\"]\n"
      ],
      "execution_count": 0,
      "outputs": []
    }
  ]
}