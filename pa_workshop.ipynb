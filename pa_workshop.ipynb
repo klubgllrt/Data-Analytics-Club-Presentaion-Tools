{
  "nbformat": 4,
  "nbformat_minor": 0,
  "metadata": {
    "colab": {
      "name": "pa_workshop.ipynb",
      "version": "0.3.2",
      "provenance": [],
      "collapsed_sections": [
        "gj-qDrEn1Kmc",
        "73BRBTh_1Kmf",
        "gmGr0waL1Kms",
        "mMw9UfxM1Kmz",
        "MCxKzw2_1Km8",
        "l4APC37v1KnK",
        "5WGEQZPG1KnZ",
        "ryKIGo831Kny",
        "6kkFG5Sh1Kn0",
        "SznrBYnj1KoW",
        "Ny3J8Qy_1Kob",
        "OWAzwI1e1Kok",
        "0WpfPZQT1Kp5",
        "LJECF5Sz1Kp6",
        "ploqYE9H1KqJ"
      ],
      "include_colab_link": true
    },
    "kernelspec": {
      "display_name": "Python 3",
      "language": "python",
      "name": "python3"
    }
  },
  "cells": [
    {
      "cell_type": "markdown",
      "metadata": {
        "id": "view-in-github",
        "colab_type": "text"
      },
      "source": [
        "<a href=\"https://colab.research.google.com/github/klubgllrt/Data-Analytics-Club-Presentaion-Tools/blob/master/pa_workshop.ipynb\" target=\"_parent\"><img src=\"https://colab.research.google.com/assets/colab-badge.svg\" alt=\"Open In Colab\"/></a>"
      ]
    },
    {
      "cell_type": "code",
      "metadata": {
        "id": "5yKSLqE02qty",
        "colab_type": "code",
        "outputId": "2027d96c-e3f6-40c6-c1ab-7133eec99af2",
        "colab": {
          "resources": {
            "http://localhost:8080/nbextensions/google.colab/files.js": {
              "data": "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",
              "ok": true,
              "headers": [
                [
                  "content-type",
                  "application/javascript"
                ]
              ],
              "status": 200,
              "status_text": ""
            }
          },
          "base_uri": "https://localhost:8080/",
          "height": 91
        }
      },
      "source": [
        "from google.colab import files\n",
        "\n",
        "uploaded = files.upload()\n",
        "\n",
        "for fn in uploaded.keys():\n",
        "  print('User uploaded file \"{name}\" with length {length} bytes'.format(\n",
        "      name=fn, length=len(uploaded[fn])))"
      ],
      "execution_count": 0,
      "outputs": [
        {
          "output_type": "display_data",
          "data": {
            "text/html": [
              "\n",
              "     <input type=\"file\" id=\"files-0a373ea2-cf24-42f9-a3f5-3190855ee0ee\" name=\"files[]\" multiple disabled />\n",
              "     <output id=\"result-0a373ea2-cf24-42f9-a3f5-3190855ee0ee\">\n",
              "      Upload widget is only available when the cell has been executed in the\n",
              "      current browser session. Please rerun this cell to enable.\n",
              "      </output>\n",
              "      <script src=\"/nbextensions/google.colab/files.js\"></script> "
            ],
            "text/plain": [
              "<IPython.core.display.HTML object>"
            ]
          },
          "metadata": {
            "tags": []
          }
        },
        {
          "output_type": "stream",
          "text": [
            "Saving admissions.csv to admissions.csv\n",
            "User uploaded file \"admissions.csv\" with length 16176 bytes\n"
          ],
          "name": "stdout"
        }
      ]
    },
    {
      "cell_type": "markdown",
      "metadata": {
        "id": "p_tviUka1KlG",
        "colab_type": "text"
      },
      "source": [
        "# Introduction to Predictive Analysis Using Linear Regressions\n",
        "\n",
        "Upon completion of the workshop/tutorial one should be able to:\n",
        "* Define what a linear regression is, how one is created, and identify some of its applications in the broad scope of data science and analytics.\n",
        "* Understand the concept and fundamental theory and how to apply a simple linear regression model to a dataset to predict a result.\n",
        "* Examine the effects of features and their relationship to each other on model prediction.\n",
        "* Identify sources for acquiring more in-depth knowledge about linear regression and data science in general."
      ]
    },
    {
      "cell_type": "code",
      "metadata": {
        "id": "B4j4O58y1dT5",
        "colab_type": "code",
        "outputId": "e60b8bfb-bcd7-408c-b62d-658f397d7640",
        "colab": {
          "base_uri": "https://localhost:8080/",
          "height": 173
        }
      },
      "source": [
        ""
      ],
      "execution_count": 0,
      "outputs": [
        {
          "output_type": "error",
          "ename": "NameError",
          "evalue": "ignored",
          "traceback": [
            "\u001b[0;31m---------------------------------------------------------------------------\u001b[0m",
            "\u001b[0;31mNameError\u001b[0m                                 Traceback (most recent call last)",
            "\u001b[0;32m<ipython-input-1-00cf07b74dcd>\u001b[0m in \u001b[0;36m<module>\u001b[0;34m()\u001b[0m\n\u001b[0;32m----> 1\u001b[0;31m \u001b[0mdf\u001b[0m\u001b[0;34m\u001b[0m\u001b[0;34m\u001b[0m\u001b[0m\n\u001b[0m",
            "\u001b[0;31mNameError\u001b[0m: name 'df' is not defined"
          ]
        }
      ]
    },
    {
      "cell_type": "markdown",
      "metadata": {
        "id": "tSih0_kW1KlN",
        "colab_type": "text"
      },
      "source": [
        "# Overview\n",
        "1. View the general process or flow for performing predictive analysis    \n",
        "2. Define a problem that may be of interest and suitable for predictive analysis    \n",
        "3. Explore a dataset and prepare it for analysis    \n",
        "4. Train and test a linear regression model to predict a result\n",
        "5. Learn where to find more information on data science topics"
      ]
    },
    {
      "cell_type": "markdown",
      "metadata": {
        "id": "zTRxbvM81KlQ",
        "colab_type": "text"
      },
      "source": [
        "# Not So Primary Colors\n",
        "Bob Ross is a famous jovial painter who was known for his television program that tried to teach viewers to paint amazing scenes from nature that included his signature \"happy trees\". He would often mix colors to add to his palette. Given only the primary colors, how would one replicate Bob's technique to create a nice shade of green for their \"happy tree\"?\n",
        "\n",
        "<p float=\"left\"><img src=\"https://github.com/vrtompki/Linear_Regression_Tutorial/blob/master/images/bob_ross.jpg?raw=1\" style=\"width: 200px;\"/>\n",
        "    <img src=\"https://github.com/vrtompki/Linear_Regression_Tutorial/blob/master/images/primary_colors.png?raw=1\" style=\"width: 400px;\"/>\n",
        "</p>"
      ]
    },
    {
      "cell_type": "markdown",
      "metadata": {
        "id": "ttiZAMBZ1KlV",
        "colab_type": "text"
      },
      "source": [
        "## Making *Green* Initial Approach\n",
        "<img src=\"https://github.com/vrtompki/Linear_Regression_Tutorial/blob/master/images/color_mixing_example.png?raw=1\" alt=\"Drawing\" style=\"width: 600px;\"/>\n",
        "Well you may remember that green is a combination of the colors *yellow* and *blue*, and you may notice that these two colors were already provided. You try mixing different amounts of these colors until you are finally able to create the three desired shades of *green*!"
      ]
    },
    {
      "cell_type": "markdown",
      "metadata": {
        "id": "Shb6W0a11KlY",
        "colab_type": "text"
      },
      "source": [
        "## Making *Green* Generalized\n",
        "\n",
        "<img src=\"https://github.com/vrtompki/Linear_Regression_Tutorial/blob/master/images/color_mixing_example.png?raw=1\" alt=\"Drawing\" style=\"width: 400px;\"/>\n",
        "\n",
        "Different shades of green consists of a various amounts of two primary colors, *yellow* and *blue*.  So theoretically we could represent any shade of green using a combination of the two colors:\n",
        "\n",
        "$$ Green = Yellow*amount_{yellow} + Blue*amount_{blue}$$\n",
        "\n",
        "$$ \\begin{align*}\n",
        "Green_{1} &= Yellow*1 + Blue*2 \\\\\n",
        "Green_{2} &= Yellow*2 + Blue*1 \\\\\n",
        "Green_{3} &= Green_{1} + Green_{2} + Blue*1 \\\\\n",
        "\\end{align*} $$"
      ]
    },
    {
      "cell_type": "markdown",
      "metadata": {
        "id": "VG3crH4r1Klc",
        "colab_type": "text"
      },
      "source": [
        "## The Predictive Analysis Work Flow\n",
        "![PA Work Flow](https://github.com/vrtompki/Linear_Regression_Tutorial/blob/master/images/Predictive_Analysis_Flow1.png?raw=1)\n",
        "\n",
        "This analogy is very similar to the approach a modeller would take to predict a result using a dataset. Often we are given a dataset, and this will be the only information available (the primary colors). We may want to learn something from this information to make a decision or prediction (the relationship between *blue*, *yellow*, and *green*. We formulate some generalized relationship in a model so that we can return back to model with new information (different combinations of *blue* and *yellow*) to get an output without having to keep repeating the same steps of learning how the data and results are connected."
      ]
    },
    {
      "cell_type": "markdown",
      "metadata": {
        "id": "-idM4NDS1Klf",
        "colab_type": "text"
      },
      "source": [
        "# Step 1: What is the Issue?\n",
        "![PA Work Flow2](https://github.com/vrtompki/Linear_Regression_Tutorial/blob/master/images/Predictive_Analysis_Flow2.png?raw=1)"
      ]
    },
    {
      "cell_type": "markdown",
      "metadata": {
        "id": "zZPquQWL1Kli",
        "colab_type": "text"
      },
      "source": [
        "## Defining the Problem: Real World Applications\n",
        "Applying for graduate school can be a pretty stressful time. Not knowing whether or not your grades or entrance score is high enough, which program has the best program to meet your academic needs, and all of this can (and certainly will) constrain the number of applications you complete and to where. Even though acceptances are often subjective based on the pool of candidates that applying that semester, what if there was a way to predict the probability of getting accepted to university's graduate program before applying, or at the very least, which application factor impacts your acceptance most very similar to how we managed to breakdown the color green? \n",
        "\n",
        "This tutorial will help elucidate a means of doing just that, but first let's examine the prevelance of this type of problem."
      ]
    },
    {
      "cell_type": "markdown",
      "metadata": {
        "id": "6lLgH9wI1Klm",
        "colab_type": "text"
      },
      "source": [
        "### Defining the Problem: A Persistent Problem\n",
        "Being able to predict or determine a value via its relationship to other factors, or observations, is pervasive and arises throughout different industries and fields.\n",
        "- CFO using marketing costs to predict sales revenue\n",
        "- Doctor wanting to know probability of diagnosis based on symptoms\n",
        "- Educators wanting to know how much study time is required for students to ace an exam\n",
        "- How house size and number of rooms affect the price a house would sale for"
      ]
    },
    {
      "cell_type": "markdown",
      "metadata": {
        "id": "0BWmYtMz1Klp",
        "colab_type": "text"
      },
      "source": [
        "# Step 2: Understanding the Info We Have\n",
        "![PA Work Flow3](https://github.com/vrtompki/Linear_Regression_Tutorial/blob/master/images/Predictive_Analysis_Flow3.png?raw=1)"
      ]
    },
    {
      "cell_type": "markdown",
      "metadata": {
        "id": "o8NosvUE1Kls",
        "colab_type": "text"
      },
      "source": [
        "## Some Basic Exploratory Analysis Tools\n",
        "Before diving into creating any model, it is best to understand the nature and characteristics of the data being analyzed. One useful library for this is in python is `pandas`. This package offers handy tools for handling and manipulating data. Exploratory analysis is the means of examining specific characteristics or patterns that describe the data in its entirety.  How is data structured, what features are present, what are their respective means, these are all example questions that can be answered using exploratory analysis."
      ]
    },
    {
      "cell_type": "code",
      "metadata": {
        "hide_input": true,
        "tags": [
          "hidden_cell"
        ],
        "id": "xgrBpCxV1Klw",
        "colab_type": "code",
        "outputId": "2a7c6c49-9a0d-4126-d2c8-d23552a59ba9",
        "colab": {
          "base_uri": "https://localhost:8080/",
          "height": 1882
        }
      },
      "source": [
        "import pandas as pd\n",
        "#./data/admissions.csv\n",
        "file_path = 'admissions.csv'\n",
        "df = pd.read_csv(file_path, header=0)\n",
        "df"
      ],
      "execution_count": 0,
      "outputs": [
        {
          "output_type": "execute_result",
          "data": {
            "text/html": [
              "<div>\n",
              "<style scoped>\n",
              "    .dataframe tbody tr th:only-of-type {\n",
              "        vertical-align: middle;\n",
              "    }\n",
              "\n",
              "    .dataframe tbody tr th {\n",
              "        vertical-align: top;\n",
              "    }\n",
              "\n",
              "    .dataframe thead th {\n",
              "        text-align: right;\n",
              "    }\n",
              "</style>\n",
              "<table border=\"1\" class=\"dataframe\">\n",
              "  <thead>\n",
              "    <tr style=\"text-align: right;\">\n",
              "      <th></th>\n",
              "      <th>Serial No.</th>\n",
              "      <th>GRE Score</th>\n",
              "      <th>TOEFL Score</th>\n",
              "      <th>University Rating</th>\n",
              "      <th>SOP</th>\n",
              "      <th>LOR</th>\n",
              "      <th>CGPA</th>\n",
              "      <th>Research</th>\n",
              "      <th>Chance of Admit</th>\n",
              "    </tr>\n",
              "  </thead>\n",
              "  <tbody>\n",
              "    <tr>\n",
              "      <th>0</th>\n",
              "      <td>1</td>\n",
              "      <td>337</td>\n",
              "      <td>118</td>\n",
              "      <td>4</td>\n",
              "      <td>4.5</td>\n",
              "      <td>4.5</td>\n",
              "      <td>9.65</td>\n",
              "      <td>1</td>\n",
              "      <td>0.92</td>\n",
              "    </tr>\n",
              "    <tr>\n",
              "      <th>1</th>\n",
              "      <td>2</td>\n",
              "      <td>324</td>\n",
              "      <td>107</td>\n",
              "      <td>4</td>\n",
              "      <td>4.0</td>\n",
              "      <td>4.5</td>\n",
              "      <td>8.87</td>\n",
              "      <td>1</td>\n",
              "      <td>0.76</td>\n",
              "    </tr>\n",
              "    <tr>\n",
              "      <th>2</th>\n",
              "      <td>3</td>\n",
              "      <td>316</td>\n",
              "      <td>104</td>\n",
              "      <td>3</td>\n",
              "      <td>3.0</td>\n",
              "      <td>3.5</td>\n",
              "      <td>8.00</td>\n",
              "      <td>1</td>\n",
              "      <td>0.72</td>\n",
              "    </tr>\n",
              "    <tr>\n",
              "      <th>3</th>\n",
              "      <td>4</td>\n",
              "      <td>322</td>\n",
              "      <td>110</td>\n",
              "      <td>3</td>\n",
              "      <td>3.5</td>\n",
              "      <td>2.5</td>\n",
              "      <td>8.67</td>\n",
              "      <td>1</td>\n",
              "      <td>0.80</td>\n",
              "    </tr>\n",
              "    <tr>\n",
              "      <th>4</th>\n",
              "      <td>5</td>\n",
              "      <td>314</td>\n",
              "      <td>103</td>\n",
              "      <td>2</td>\n",
              "      <td>2.0</td>\n",
              "      <td>3.0</td>\n",
              "      <td>8.21</td>\n",
              "      <td>0</td>\n",
              "      <td>0.65</td>\n",
              "    </tr>\n",
              "    <tr>\n",
              "      <th>5</th>\n",
              "      <td>6</td>\n",
              "      <td>330</td>\n",
              "      <td>115</td>\n",
              "      <td>5</td>\n",
              "      <td>4.5</td>\n",
              "      <td>3.0</td>\n",
              "      <td>9.34</td>\n",
              "      <td>1</td>\n",
              "      <td>0.90</td>\n",
              "    </tr>\n",
              "    <tr>\n",
              "      <th>6</th>\n",
              "      <td>7</td>\n",
              "      <td>321</td>\n",
              "      <td>109</td>\n",
              "      <td>3</td>\n",
              "      <td>3.0</td>\n",
              "      <td>4.0</td>\n",
              "      <td>8.20</td>\n",
              "      <td>1</td>\n",
              "      <td>0.75</td>\n",
              "    </tr>\n",
              "    <tr>\n",
              "      <th>7</th>\n",
              "      <td>8</td>\n",
              "      <td>308</td>\n",
              "      <td>101</td>\n",
              "      <td>2</td>\n",
              "      <td>3.0</td>\n",
              "      <td>4.0</td>\n",
              "      <td>7.90</td>\n",
              "      <td>0</td>\n",
              "      <td>0.68</td>\n",
              "    </tr>\n",
              "    <tr>\n",
              "      <th>8</th>\n",
              "      <td>9</td>\n",
              "      <td>302</td>\n",
              "      <td>102</td>\n",
              "      <td>1</td>\n",
              "      <td>2.0</td>\n",
              "      <td>1.5</td>\n",
              "      <td>8.00</td>\n",
              "      <td>0</td>\n",
              "      <td>0.50</td>\n",
              "    </tr>\n",
              "    <tr>\n",
              "      <th>9</th>\n",
              "      <td>10</td>\n",
              "      <td>323</td>\n",
              "      <td>108</td>\n",
              "      <td>3</td>\n",
              "      <td>3.5</td>\n",
              "      <td>3.0</td>\n",
              "      <td>8.60</td>\n",
              "      <td>0</td>\n",
              "      <td>0.45</td>\n",
              "    </tr>\n",
              "    <tr>\n",
              "      <th>10</th>\n",
              "      <td>11</td>\n",
              "      <td>325</td>\n",
              "      <td>106</td>\n",
              "      <td>3</td>\n",
              "      <td>3.5</td>\n",
              "      <td>4.0</td>\n",
              "      <td>8.40</td>\n",
              "      <td>1</td>\n",
              "      <td>0.52</td>\n",
              "    </tr>\n",
              "    <tr>\n",
              "      <th>11</th>\n",
              "      <td>12</td>\n",
              "      <td>327</td>\n",
              "      <td>111</td>\n",
              "      <td>4</td>\n",
              "      <td>4.0</td>\n",
              "      <td>4.5</td>\n",
              "      <td>9.00</td>\n",
              "      <td>1</td>\n",
              "      <td>0.84</td>\n",
              "    </tr>\n",
              "    <tr>\n",
              "      <th>12</th>\n",
              "      <td>13</td>\n",
              "      <td>328</td>\n",
              "      <td>112</td>\n",
              "      <td>4</td>\n",
              "      <td>4.0</td>\n",
              "      <td>4.5</td>\n",
              "      <td>9.10</td>\n",
              "      <td>1</td>\n",
              "      <td>0.78</td>\n",
              "    </tr>\n",
              "    <tr>\n",
              "      <th>13</th>\n",
              "      <td>14</td>\n",
              "      <td>307</td>\n",
              "      <td>109</td>\n",
              "      <td>3</td>\n",
              "      <td>4.0</td>\n",
              "      <td>3.0</td>\n",
              "      <td>8.00</td>\n",
              "      <td>1</td>\n",
              "      <td>0.62</td>\n",
              "    </tr>\n",
              "    <tr>\n",
              "      <th>14</th>\n",
              "      <td>15</td>\n",
              "      <td>311</td>\n",
              "      <td>104</td>\n",
              "      <td>3</td>\n",
              "      <td>3.5</td>\n",
              "      <td>2.0</td>\n",
              "      <td>8.20</td>\n",
              "      <td>1</td>\n",
              "      <td>0.61</td>\n",
              "    </tr>\n",
              "    <tr>\n",
              "      <th>15</th>\n",
              "      <td>16</td>\n",
              "      <td>314</td>\n",
              "      <td>105</td>\n",
              "      <td>3</td>\n",
              "      <td>3.5</td>\n",
              "      <td>2.5</td>\n",
              "      <td>8.30</td>\n",
              "      <td>0</td>\n",
              "      <td>0.54</td>\n",
              "    </tr>\n",
              "    <tr>\n",
              "      <th>16</th>\n",
              "      <td>17</td>\n",
              "      <td>317</td>\n",
              "      <td>107</td>\n",
              "      <td>3</td>\n",
              "      <td>4.0</td>\n",
              "      <td>3.0</td>\n",
              "      <td>8.70</td>\n",
              "      <td>0</td>\n",
              "      <td>0.66</td>\n",
              "    </tr>\n",
              "    <tr>\n",
              "      <th>17</th>\n",
              "      <td>18</td>\n",
              "      <td>319</td>\n",
              "      <td>106</td>\n",
              "      <td>3</td>\n",
              "      <td>4.0</td>\n",
              "      <td>3.0</td>\n",
              "      <td>8.00</td>\n",
              "      <td>1</td>\n",
              "      <td>0.65</td>\n",
              "    </tr>\n",
              "    <tr>\n",
              "      <th>18</th>\n",
              "      <td>19</td>\n",
              "      <td>318</td>\n",
              "      <td>110</td>\n",
              "      <td>3</td>\n",
              "      <td>4.0</td>\n",
              "      <td>3.0</td>\n",
              "      <td>8.80</td>\n",
              "      <td>0</td>\n",
              "      <td>0.63</td>\n",
              "    </tr>\n",
              "    <tr>\n",
              "      <th>19</th>\n",
              "      <td>20</td>\n",
              "      <td>303</td>\n",
              "      <td>102</td>\n",
              "      <td>3</td>\n",
              "      <td>3.5</td>\n",
              "      <td>3.0</td>\n",
              "      <td>8.50</td>\n",
              "      <td>0</td>\n",
              "      <td>0.62</td>\n",
              "    </tr>\n",
              "    <tr>\n",
              "      <th>20</th>\n",
              "      <td>21</td>\n",
              "      <td>312</td>\n",
              "      <td>107</td>\n",
              "      <td>3</td>\n",
              "      <td>3.0</td>\n",
              "      <td>2.0</td>\n",
              "      <td>7.90</td>\n",
              "      <td>1</td>\n",
              "      <td>0.64</td>\n",
              "    </tr>\n",
              "    <tr>\n",
              "      <th>21</th>\n",
              "      <td>22</td>\n",
              "      <td>325</td>\n",
              "      <td>114</td>\n",
              "      <td>4</td>\n",
              "      <td>3.0</td>\n",
              "      <td>2.0</td>\n",
              "      <td>8.40</td>\n",
              "      <td>0</td>\n",
              "      <td>0.70</td>\n",
              "    </tr>\n",
              "    <tr>\n",
              "      <th>22</th>\n",
              "      <td>23</td>\n",
              "      <td>328</td>\n",
              "      <td>116</td>\n",
              "      <td>5</td>\n",
              "      <td>5.0</td>\n",
              "      <td>5.0</td>\n",
              "      <td>9.50</td>\n",
              "      <td>1</td>\n",
              "      <td>0.94</td>\n",
              "    </tr>\n",
              "    <tr>\n",
              "      <th>23</th>\n",
              "      <td>24</td>\n",
              "      <td>334</td>\n",
              "      <td>119</td>\n",
              "      <td>5</td>\n",
              "      <td>5.0</td>\n",
              "      <td>4.5</td>\n",
              "      <td>9.70</td>\n",
              "      <td>1</td>\n",
              "      <td>0.95</td>\n",
              "    </tr>\n",
              "    <tr>\n",
              "      <th>24</th>\n",
              "      <td>25</td>\n",
              "      <td>336</td>\n",
              "      <td>119</td>\n",
              "      <td>5</td>\n",
              "      <td>4.0</td>\n",
              "      <td>3.5</td>\n",
              "      <td>9.80</td>\n",
              "      <td>1</td>\n",
              "      <td>0.97</td>\n",
              "    </tr>\n",
              "    <tr>\n",
              "      <th>25</th>\n",
              "      <td>26</td>\n",
              "      <td>340</td>\n",
              "      <td>120</td>\n",
              "      <td>5</td>\n",
              "      <td>4.5</td>\n",
              "      <td>4.5</td>\n",
              "      <td>9.60</td>\n",
              "      <td>1</td>\n",
              "      <td>0.94</td>\n",
              "    </tr>\n",
              "    <tr>\n",
              "      <th>26</th>\n",
              "      <td>27</td>\n",
              "      <td>322</td>\n",
              "      <td>109</td>\n",
              "      <td>5</td>\n",
              "      <td>4.5</td>\n",
              "      <td>3.5</td>\n",
              "      <td>8.80</td>\n",
              "      <td>0</td>\n",
              "      <td>0.76</td>\n",
              "    </tr>\n",
              "    <tr>\n",
              "      <th>27</th>\n",
              "      <td>28</td>\n",
              "      <td>298</td>\n",
              "      <td>98</td>\n",
              "      <td>2</td>\n",
              "      <td>1.5</td>\n",
              "      <td>2.5</td>\n",
              "      <td>7.50</td>\n",
              "      <td>1</td>\n",
              "      <td>0.44</td>\n",
              "    </tr>\n",
              "    <tr>\n",
              "      <th>28</th>\n",
              "      <td>29</td>\n",
              "      <td>295</td>\n",
              "      <td>93</td>\n",
              "      <td>1</td>\n",
              "      <td>2.0</td>\n",
              "      <td>2.0</td>\n",
              "      <td>7.20</td>\n",
              "      <td>0</td>\n",
              "      <td>0.46</td>\n",
              "    </tr>\n",
              "    <tr>\n",
              "      <th>29</th>\n",
              "      <td>30</td>\n",
              "      <td>310</td>\n",
              "      <td>99</td>\n",
              "      <td>2</td>\n",
              "      <td>1.5</td>\n",
              "      <td>2.0</td>\n",
              "      <td>7.30</td>\n",
              "      <td>0</td>\n",
              "      <td>0.54</td>\n",
              "    </tr>\n",
              "    <tr>\n",
              "      <th>...</th>\n",
              "      <td>...</td>\n",
              "      <td>...</td>\n",
              "      <td>...</td>\n",
              "      <td>...</td>\n",
              "      <td>...</td>\n",
              "      <td>...</td>\n",
              "      <td>...</td>\n",
              "      <td>...</td>\n",
              "      <td>...</td>\n",
              "    </tr>\n",
              "    <tr>\n",
              "      <th>470</th>\n",
              "      <td>471</td>\n",
              "      <td>320</td>\n",
              "      <td>110</td>\n",
              "      <td>5</td>\n",
              "      <td>4.0</td>\n",
              "      <td>4.0</td>\n",
              "      <td>9.27</td>\n",
              "      <td>1</td>\n",
              "      <td>0.87</td>\n",
              "    </tr>\n",
              "    <tr>\n",
              "      <th>471</th>\n",
              "      <td>472</td>\n",
              "      <td>311</td>\n",
              "      <td>103</td>\n",
              "      <td>3</td>\n",
              "      <td>2.0</td>\n",
              "      <td>4.0</td>\n",
              "      <td>8.09</td>\n",
              "      <td>0</td>\n",
              "      <td>0.64</td>\n",
              "    </tr>\n",
              "    <tr>\n",
              "      <th>472</th>\n",
              "      <td>473</td>\n",
              "      <td>327</td>\n",
              "      <td>116</td>\n",
              "      <td>4</td>\n",
              "      <td>4.0</td>\n",
              "      <td>4.5</td>\n",
              "      <td>9.48</td>\n",
              "      <td>1</td>\n",
              "      <td>0.90</td>\n",
              "    </tr>\n",
              "    <tr>\n",
              "      <th>473</th>\n",
              "      <td>474</td>\n",
              "      <td>316</td>\n",
              "      <td>102</td>\n",
              "      <td>2</td>\n",
              "      <td>4.0</td>\n",
              "      <td>3.5</td>\n",
              "      <td>8.15</td>\n",
              "      <td>0</td>\n",
              "      <td>0.67</td>\n",
              "    </tr>\n",
              "    <tr>\n",
              "      <th>474</th>\n",
              "      <td>475</td>\n",
              "      <td>308</td>\n",
              "      <td>105</td>\n",
              "      <td>4</td>\n",
              "      <td>3.0</td>\n",
              "      <td>2.5</td>\n",
              "      <td>7.95</td>\n",
              "      <td>1</td>\n",
              "      <td>0.67</td>\n",
              "    </tr>\n",
              "    <tr>\n",
              "      <th>475</th>\n",
              "      <td>476</td>\n",
              "      <td>300</td>\n",
              "      <td>101</td>\n",
              "      <td>3</td>\n",
              "      <td>3.5</td>\n",
              "      <td>2.5</td>\n",
              "      <td>7.88</td>\n",
              "      <td>0</td>\n",
              "      <td>0.59</td>\n",
              "    </tr>\n",
              "    <tr>\n",
              "      <th>476</th>\n",
              "      <td>477</td>\n",
              "      <td>304</td>\n",
              "      <td>104</td>\n",
              "      <td>3</td>\n",
              "      <td>2.5</td>\n",
              "      <td>2.0</td>\n",
              "      <td>8.12</td>\n",
              "      <td>0</td>\n",
              "      <td>0.62</td>\n",
              "    </tr>\n",
              "    <tr>\n",
              "      <th>477</th>\n",
              "      <td>478</td>\n",
              "      <td>309</td>\n",
              "      <td>105</td>\n",
              "      <td>4</td>\n",
              "      <td>3.5</td>\n",
              "      <td>2.0</td>\n",
              "      <td>8.18</td>\n",
              "      <td>0</td>\n",
              "      <td>0.65</td>\n",
              "    </tr>\n",
              "    <tr>\n",
              "      <th>478</th>\n",
              "      <td>479</td>\n",
              "      <td>318</td>\n",
              "      <td>103</td>\n",
              "      <td>3</td>\n",
              "      <td>4.0</td>\n",
              "      <td>4.5</td>\n",
              "      <td>8.49</td>\n",
              "      <td>1</td>\n",
              "      <td>0.71</td>\n",
              "    </tr>\n",
              "    <tr>\n",
              "      <th>479</th>\n",
              "      <td>480</td>\n",
              "      <td>325</td>\n",
              "      <td>110</td>\n",
              "      <td>4</td>\n",
              "      <td>4.5</td>\n",
              "      <td>4.0</td>\n",
              "      <td>8.96</td>\n",
              "      <td>1</td>\n",
              "      <td>0.79</td>\n",
              "    </tr>\n",
              "    <tr>\n",
              "      <th>480</th>\n",
              "      <td>481</td>\n",
              "      <td>321</td>\n",
              "      <td>102</td>\n",
              "      <td>3</td>\n",
              "      <td>3.5</td>\n",
              "      <td>4.0</td>\n",
              "      <td>9.01</td>\n",
              "      <td>1</td>\n",
              "      <td>0.80</td>\n",
              "    </tr>\n",
              "    <tr>\n",
              "      <th>481</th>\n",
              "      <td>482</td>\n",
              "      <td>323</td>\n",
              "      <td>107</td>\n",
              "      <td>4</td>\n",
              "      <td>3.0</td>\n",
              "      <td>2.5</td>\n",
              "      <td>8.48</td>\n",
              "      <td>1</td>\n",
              "      <td>0.78</td>\n",
              "    </tr>\n",
              "    <tr>\n",
              "      <th>482</th>\n",
              "      <td>483</td>\n",
              "      <td>328</td>\n",
              "      <td>113</td>\n",
              "      <td>4</td>\n",
              "      <td>4.0</td>\n",
              "      <td>2.5</td>\n",
              "      <td>8.77</td>\n",
              "      <td>1</td>\n",
              "      <td>0.83</td>\n",
              "    </tr>\n",
              "    <tr>\n",
              "      <th>483</th>\n",
              "      <td>484</td>\n",
              "      <td>304</td>\n",
              "      <td>103</td>\n",
              "      <td>5</td>\n",
              "      <td>5.0</td>\n",
              "      <td>3.0</td>\n",
              "      <td>7.92</td>\n",
              "      <td>0</td>\n",
              "      <td>0.71</td>\n",
              "    </tr>\n",
              "    <tr>\n",
              "      <th>484</th>\n",
              "      <td>485</td>\n",
              "      <td>317</td>\n",
              "      <td>106</td>\n",
              "      <td>3</td>\n",
              "      <td>3.5</td>\n",
              "      <td>3.0</td>\n",
              "      <td>7.89</td>\n",
              "      <td>1</td>\n",
              "      <td>0.73</td>\n",
              "    </tr>\n",
              "    <tr>\n",
              "      <th>485</th>\n",
              "      <td>486</td>\n",
              "      <td>311</td>\n",
              "      <td>101</td>\n",
              "      <td>2</td>\n",
              "      <td>2.5</td>\n",
              "      <td>3.5</td>\n",
              "      <td>8.34</td>\n",
              "      <td>1</td>\n",
              "      <td>0.70</td>\n",
              "    </tr>\n",
              "    <tr>\n",
              "      <th>486</th>\n",
              "      <td>487</td>\n",
              "      <td>319</td>\n",
              "      <td>102</td>\n",
              "      <td>3</td>\n",
              "      <td>2.5</td>\n",
              "      <td>2.5</td>\n",
              "      <td>8.37</td>\n",
              "      <td>0</td>\n",
              "      <td>0.68</td>\n",
              "    </tr>\n",
              "    <tr>\n",
              "      <th>487</th>\n",
              "      <td>488</td>\n",
              "      <td>327</td>\n",
              "      <td>115</td>\n",
              "      <td>4</td>\n",
              "      <td>3.5</td>\n",
              "      <td>4.0</td>\n",
              "      <td>9.14</td>\n",
              "      <td>0</td>\n",
              "      <td>0.79</td>\n",
              "    </tr>\n",
              "    <tr>\n",
              "      <th>488</th>\n",
              "      <td>489</td>\n",
              "      <td>322</td>\n",
              "      <td>112</td>\n",
              "      <td>3</td>\n",
              "      <td>3.0</td>\n",
              "      <td>4.0</td>\n",
              "      <td>8.62</td>\n",
              "      <td>1</td>\n",
              "      <td>0.76</td>\n",
              "    </tr>\n",
              "    <tr>\n",
              "      <th>489</th>\n",
              "      <td>490</td>\n",
              "      <td>302</td>\n",
              "      <td>110</td>\n",
              "      <td>3</td>\n",
              "      <td>4.0</td>\n",
              "      <td>4.5</td>\n",
              "      <td>8.50</td>\n",
              "      <td>0</td>\n",
              "      <td>0.65</td>\n",
              "    </tr>\n",
              "    <tr>\n",
              "      <th>490</th>\n",
              "      <td>491</td>\n",
              "      <td>307</td>\n",
              "      <td>105</td>\n",
              "      <td>2</td>\n",
              "      <td>2.5</td>\n",
              "      <td>4.5</td>\n",
              "      <td>8.12</td>\n",
              "      <td>1</td>\n",
              "      <td>0.67</td>\n",
              "    </tr>\n",
              "    <tr>\n",
              "      <th>491</th>\n",
              "      <td>492</td>\n",
              "      <td>297</td>\n",
              "      <td>99</td>\n",
              "      <td>4</td>\n",
              "      <td>3.0</td>\n",
              "      <td>3.5</td>\n",
              "      <td>7.81</td>\n",
              "      <td>0</td>\n",
              "      <td>0.54</td>\n",
              "    </tr>\n",
              "    <tr>\n",
              "      <th>492</th>\n",
              "      <td>493</td>\n",
              "      <td>298</td>\n",
              "      <td>101</td>\n",
              "      <td>4</td>\n",
              "      <td>2.5</td>\n",
              "      <td>4.5</td>\n",
              "      <td>7.69</td>\n",
              "      <td>1</td>\n",
              "      <td>0.53</td>\n",
              "    </tr>\n",
              "    <tr>\n",
              "      <th>493</th>\n",
              "      <td>494</td>\n",
              "      <td>300</td>\n",
              "      <td>95</td>\n",
              "      <td>2</td>\n",
              "      <td>3.0</td>\n",
              "      <td>1.5</td>\n",
              "      <td>8.22</td>\n",
              "      <td>1</td>\n",
              "      <td>0.62</td>\n",
              "    </tr>\n",
              "    <tr>\n",
              "      <th>494</th>\n",
              "      <td>495</td>\n",
              "      <td>301</td>\n",
              "      <td>99</td>\n",
              "      <td>3</td>\n",
              "      <td>2.5</td>\n",
              "      <td>2.0</td>\n",
              "      <td>8.45</td>\n",
              "      <td>1</td>\n",
              "      <td>0.68</td>\n",
              "    </tr>\n",
              "    <tr>\n",
              "      <th>495</th>\n",
              "      <td>496</td>\n",
              "      <td>332</td>\n",
              "      <td>108</td>\n",
              "      <td>5</td>\n",
              "      <td>4.5</td>\n",
              "      <td>4.0</td>\n",
              "      <td>9.02</td>\n",
              "      <td>1</td>\n",
              "      <td>0.87</td>\n",
              "    </tr>\n",
              "    <tr>\n",
              "      <th>496</th>\n",
              "      <td>497</td>\n",
              "      <td>337</td>\n",
              "      <td>117</td>\n",
              "      <td>5</td>\n",
              "      <td>5.0</td>\n",
              "      <td>5.0</td>\n",
              "      <td>9.87</td>\n",
              "      <td>1</td>\n",
              "      <td>0.96</td>\n",
              "    </tr>\n",
              "    <tr>\n",
              "      <th>497</th>\n",
              "      <td>498</td>\n",
              "      <td>330</td>\n",
              "      <td>120</td>\n",
              "      <td>5</td>\n",
              "      <td>4.5</td>\n",
              "      <td>5.0</td>\n",
              "      <td>9.56</td>\n",
              "      <td>1</td>\n",
              "      <td>0.93</td>\n",
              "    </tr>\n",
              "    <tr>\n",
              "      <th>498</th>\n",
              "      <td>499</td>\n",
              "      <td>312</td>\n",
              "      <td>103</td>\n",
              "      <td>4</td>\n",
              "      <td>4.0</td>\n",
              "      <td>5.0</td>\n",
              "      <td>8.43</td>\n",
              "      <td>0</td>\n",
              "      <td>0.73</td>\n",
              "    </tr>\n",
              "    <tr>\n",
              "      <th>499</th>\n",
              "      <td>500</td>\n",
              "      <td>327</td>\n",
              "      <td>113</td>\n",
              "      <td>4</td>\n",
              "      <td>4.5</td>\n",
              "      <td>4.5</td>\n",
              "      <td>9.04</td>\n",
              "      <td>0</td>\n",
              "      <td>0.84</td>\n",
              "    </tr>\n",
              "  </tbody>\n",
              "</table>\n",
              "<p>500 rows × 9 columns</p>\n",
              "</div>"
            ],
            "text/plain": [
              "     Serial No.  GRE Score  TOEFL Score  University Rating  SOP  LOR  CGPA  \\\n",
              "0             1        337          118                  4  4.5  4.5  9.65   \n",
              "1             2        324          107                  4  4.0  4.5  8.87   \n",
              "2             3        316          104                  3  3.0  3.5  8.00   \n",
              "3             4        322          110                  3  3.5  2.5  8.67   \n",
              "4             5        314          103                  2  2.0  3.0  8.21   \n",
              "5             6        330          115                  5  4.5  3.0  9.34   \n",
              "6             7        321          109                  3  3.0  4.0  8.20   \n",
              "7             8        308          101                  2  3.0  4.0  7.90   \n",
              "8             9        302          102                  1  2.0  1.5  8.00   \n",
              "9            10        323          108                  3  3.5  3.0  8.60   \n",
              "10           11        325          106                  3  3.5  4.0  8.40   \n",
              "11           12        327          111                  4  4.0  4.5  9.00   \n",
              "12           13        328          112                  4  4.0  4.5  9.10   \n",
              "13           14        307          109                  3  4.0  3.0  8.00   \n",
              "14           15        311          104                  3  3.5  2.0  8.20   \n",
              "15           16        314          105                  3  3.5  2.5  8.30   \n",
              "16           17        317          107                  3  4.0  3.0  8.70   \n",
              "17           18        319          106                  3  4.0  3.0  8.00   \n",
              "18           19        318          110                  3  4.0  3.0  8.80   \n",
              "19           20        303          102                  3  3.5  3.0  8.50   \n",
              "20           21        312          107                  3  3.0  2.0  7.90   \n",
              "21           22        325          114                  4  3.0  2.0  8.40   \n",
              "22           23        328          116                  5  5.0  5.0  9.50   \n",
              "23           24        334          119                  5  5.0  4.5  9.70   \n",
              "24           25        336          119                  5  4.0  3.5  9.80   \n",
              "25           26        340          120                  5  4.5  4.5  9.60   \n",
              "26           27        322          109                  5  4.5  3.5  8.80   \n",
              "27           28        298           98                  2  1.5  2.5  7.50   \n",
              "28           29        295           93                  1  2.0  2.0  7.20   \n",
              "29           30        310           99                  2  1.5  2.0  7.30   \n",
              "..          ...        ...          ...                ...  ...  ...   ...   \n",
              "470         471        320          110                  5  4.0  4.0  9.27   \n",
              "471         472        311          103                  3  2.0  4.0  8.09   \n",
              "472         473        327          116                  4  4.0  4.5  9.48   \n",
              "473         474        316          102                  2  4.0  3.5  8.15   \n",
              "474         475        308          105                  4  3.0  2.5  7.95   \n",
              "475         476        300          101                  3  3.5  2.5  7.88   \n",
              "476         477        304          104                  3  2.5  2.0  8.12   \n",
              "477         478        309          105                  4  3.5  2.0  8.18   \n",
              "478         479        318          103                  3  4.0  4.5  8.49   \n",
              "479         480        325          110                  4  4.5  4.0  8.96   \n",
              "480         481        321          102                  3  3.5  4.0  9.01   \n",
              "481         482        323          107                  4  3.0  2.5  8.48   \n",
              "482         483        328          113                  4  4.0  2.5  8.77   \n",
              "483         484        304          103                  5  5.0  3.0  7.92   \n",
              "484         485        317          106                  3  3.5  3.0  7.89   \n",
              "485         486        311          101                  2  2.5  3.5  8.34   \n",
              "486         487        319          102                  3  2.5  2.5  8.37   \n",
              "487         488        327          115                  4  3.5  4.0  9.14   \n",
              "488         489        322          112                  3  3.0  4.0  8.62   \n",
              "489         490        302          110                  3  4.0  4.5  8.50   \n",
              "490         491        307          105                  2  2.5  4.5  8.12   \n",
              "491         492        297           99                  4  3.0  3.5  7.81   \n",
              "492         493        298          101                  4  2.5  4.5  7.69   \n",
              "493         494        300           95                  2  3.0  1.5  8.22   \n",
              "494         495        301           99                  3  2.5  2.0  8.45   \n",
              "495         496        332          108                  5  4.5  4.0  9.02   \n",
              "496         497        337          117                  5  5.0  5.0  9.87   \n",
              "497         498        330          120                  5  4.5  5.0  9.56   \n",
              "498         499        312          103                  4  4.0  5.0  8.43   \n",
              "499         500        327          113                  4  4.5  4.5  9.04   \n",
              "\n",
              "     Research  Chance of Admit  \n",
              "0           1             0.92  \n",
              "1           1             0.76  \n",
              "2           1             0.72  \n",
              "3           1             0.80  \n",
              "4           0             0.65  \n",
              "5           1             0.90  \n",
              "6           1             0.75  \n",
              "7           0             0.68  \n",
              "8           0             0.50  \n",
              "9           0             0.45  \n",
              "10          1             0.52  \n",
              "11          1             0.84  \n",
              "12          1             0.78  \n",
              "13          1             0.62  \n",
              "14          1             0.61  \n",
              "15          0             0.54  \n",
              "16          0             0.66  \n",
              "17          1             0.65  \n",
              "18          0             0.63  \n",
              "19          0             0.62  \n",
              "20          1             0.64  \n",
              "21          0             0.70  \n",
              "22          1             0.94  \n",
              "23          1             0.95  \n",
              "24          1             0.97  \n",
              "25          1             0.94  \n",
              "26          0             0.76  \n",
              "27          1             0.44  \n",
              "28          0             0.46  \n",
              "29          0             0.54  \n",
              "..        ...              ...  \n",
              "470         1             0.87  \n",
              "471         0             0.64  \n",
              "472         1             0.90  \n",
              "473         0             0.67  \n",
              "474         1             0.67  \n",
              "475         0             0.59  \n",
              "476         0             0.62  \n",
              "477         0             0.65  \n",
              "478         1             0.71  \n",
              "479         1             0.79  \n",
              "480         1             0.80  \n",
              "481         1             0.78  \n",
              "482         1             0.83  \n",
              "483         0             0.71  \n",
              "484         1             0.73  \n",
              "485         1             0.70  \n",
              "486         0             0.68  \n",
              "487         0             0.79  \n",
              "488         1             0.76  \n",
              "489         0             0.65  \n",
              "490         1             0.67  \n",
              "491         0             0.54  \n",
              "492         1             0.53  \n",
              "493         1             0.62  \n",
              "494         1             0.68  \n",
              "495         1             0.87  \n",
              "496         1             0.96  \n",
              "497         1             0.93  \n",
              "498         0             0.73  \n",
              "499         0             0.84  \n",
              "\n",
              "[500 rows x 9 columns]"
            ]
          },
          "metadata": {
            "tags": []
          },
          "execution_count": 3
        }
      ]
    },
    {
      "cell_type": "markdown",
      "metadata": {
        "id": "rNAFUBjZ1Kl4",
        "colab_type": "text"
      },
      "source": [
        "## Graduate Admissions Dataset\n",
        "The Graduate Admissioins Dataset contains 8 features for 500 applicants, and was obtained from Kaggle. The features are attributes of associated with requirements for getting into a graduate school program, which can be used to determine the likelihood of being accepted. This dataset has been loaded as the pandas DataFrame `df`. We will use `df` to build a linear regression model to help us predict the chances of admittance based on our own credentials!"
      ]
    },
    {
      "cell_type": "markdown",
      "metadata": {
        "id": "BZn1ugj31Kl8",
        "colab_type": "text"
      },
      "source": [
        "###  The Dataset Structure\n",
        "A data frame is a convenient object for structuring data in tables similar to excel.  Using the `df.head()` command returns the first five entries in the dataset. The `head` command has an optional input argument `n` to see the first $n$ entries."
      ]
    },
    {
      "cell_type": "code",
      "metadata": {
        "id": "FWqEB9l51Kl-",
        "colab_type": "code",
        "outputId": "9f60462b-9953-4f35-9027-011b44bd8e40",
        "colab": {
          "base_uri": "https://localhost:8080/",
          "height": 195
        }
      },
      "source": [
        "# Print out the first five entries of the dataset\n",
        "df.head()"
      ],
      "execution_count": 0,
      "outputs": [
        {
          "output_type": "execute_result",
          "data": {
            "text/html": [
              "<div>\n",
              "<style scoped>\n",
              "    .dataframe tbody tr th:only-of-type {\n",
              "        vertical-align: middle;\n",
              "    }\n",
              "\n",
              "    .dataframe tbody tr th {\n",
              "        vertical-align: top;\n",
              "    }\n",
              "\n",
              "    .dataframe thead th {\n",
              "        text-align: right;\n",
              "    }\n",
              "</style>\n",
              "<table border=\"1\" class=\"dataframe\">\n",
              "  <thead>\n",
              "    <tr style=\"text-align: right;\">\n",
              "      <th></th>\n",
              "      <th>Serial No.</th>\n",
              "      <th>GRE Score</th>\n",
              "      <th>TOEFL Score</th>\n",
              "      <th>University Rating</th>\n",
              "      <th>SOP</th>\n",
              "      <th>LOR</th>\n",
              "      <th>CGPA</th>\n",
              "      <th>Research</th>\n",
              "      <th>Chance of Admit</th>\n",
              "    </tr>\n",
              "  </thead>\n",
              "  <tbody>\n",
              "    <tr>\n",
              "      <th>0</th>\n",
              "      <td>1</td>\n",
              "      <td>337</td>\n",
              "      <td>118</td>\n",
              "      <td>4</td>\n",
              "      <td>4.5</td>\n",
              "      <td>4.5</td>\n",
              "      <td>9.65</td>\n",
              "      <td>1</td>\n",
              "      <td>0.92</td>\n",
              "    </tr>\n",
              "    <tr>\n",
              "      <th>1</th>\n",
              "      <td>2</td>\n",
              "      <td>324</td>\n",
              "      <td>107</td>\n",
              "      <td>4</td>\n",
              "      <td>4.0</td>\n",
              "      <td>4.5</td>\n",
              "      <td>8.87</td>\n",
              "      <td>1</td>\n",
              "      <td>0.76</td>\n",
              "    </tr>\n",
              "    <tr>\n",
              "      <th>2</th>\n",
              "      <td>3</td>\n",
              "      <td>316</td>\n",
              "      <td>104</td>\n",
              "      <td>3</td>\n",
              "      <td>3.0</td>\n",
              "      <td>3.5</td>\n",
              "      <td>8.00</td>\n",
              "      <td>1</td>\n",
              "      <td>0.72</td>\n",
              "    </tr>\n",
              "    <tr>\n",
              "      <th>3</th>\n",
              "      <td>4</td>\n",
              "      <td>322</td>\n",
              "      <td>110</td>\n",
              "      <td>3</td>\n",
              "      <td>3.5</td>\n",
              "      <td>2.5</td>\n",
              "      <td>8.67</td>\n",
              "      <td>1</td>\n",
              "      <td>0.80</td>\n",
              "    </tr>\n",
              "    <tr>\n",
              "      <th>4</th>\n",
              "      <td>5</td>\n",
              "      <td>314</td>\n",
              "      <td>103</td>\n",
              "      <td>2</td>\n",
              "      <td>2.0</td>\n",
              "      <td>3.0</td>\n",
              "      <td>8.21</td>\n",
              "      <td>0</td>\n",
              "      <td>0.65</td>\n",
              "    </tr>\n",
              "  </tbody>\n",
              "</table>\n",
              "</div>"
            ],
            "text/plain": [
              "   Serial No.  GRE Score  TOEFL Score  University Rating  SOP  LOR  CGPA  \\\n",
              "0           1        337          118                  4  4.5  4.5  9.65   \n",
              "1           2        324          107                  4  4.0  4.5  8.87   \n",
              "2           3        316          104                  3  3.0  3.5  8.00   \n",
              "3           4        322          110                  3  3.5  2.5  8.67   \n",
              "4           5        314          103                  2  2.0  3.0  8.21   \n",
              "\n",
              "   Research  Chance of Admit  \n",
              "0         1             0.92  \n",
              "1         1             0.76  \n",
              "2         1             0.72  \n",
              "3         1             0.80  \n",
              "4         0             0.65  "
            ]
          },
          "metadata": {
            "tags": []
          },
          "execution_count": 4
        }
      ]
    },
    {
      "cell_type": "markdown",
      "metadata": {
        "id": "lKZI05tK1KmJ",
        "colab_type": "text"
      },
      "source": [
        "**(TODO) View the first ten entries of the DataFrame using `df.head(n=10)`**"
      ]
    },
    {
      "cell_type": "code",
      "metadata": {
        "id": "nKX_yalX1KmL",
        "colab_type": "code",
        "outputId": "f460ee35-6bf4-452d-f8f9-17cbc47378f7",
        "colab": {
          "base_uri": "https://localhost:8080/",
          "height": 343
        }
      },
      "source": [
        "df.head(n= 10)"
      ],
      "execution_count": 0,
      "outputs": [
        {
          "output_type": "execute_result",
          "data": {
            "text/html": [
              "<div>\n",
              "<style scoped>\n",
              "    .dataframe tbody tr th:only-of-type {\n",
              "        vertical-align: middle;\n",
              "    }\n",
              "\n",
              "    .dataframe tbody tr th {\n",
              "        vertical-align: top;\n",
              "    }\n",
              "\n",
              "    .dataframe thead th {\n",
              "        text-align: right;\n",
              "    }\n",
              "</style>\n",
              "<table border=\"1\" class=\"dataframe\">\n",
              "  <thead>\n",
              "    <tr style=\"text-align: right;\">\n",
              "      <th></th>\n",
              "      <th>Serial No.</th>\n",
              "      <th>GRE Score</th>\n",
              "      <th>TOEFL Score</th>\n",
              "      <th>University Rating</th>\n",
              "      <th>SOP</th>\n",
              "      <th>LOR</th>\n",
              "      <th>CGPA</th>\n",
              "      <th>Research</th>\n",
              "      <th>Chance of Admit</th>\n",
              "    </tr>\n",
              "  </thead>\n",
              "  <tbody>\n",
              "    <tr>\n",
              "      <th>0</th>\n",
              "      <td>1</td>\n",
              "      <td>337</td>\n",
              "      <td>118</td>\n",
              "      <td>4</td>\n",
              "      <td>4.5</td>\n",
              "      <td>4.5</td>\n",
              "      <td>9.65</td>\n",
              "      <td>1</td>\n",
              "      <td>0.92</td>\n",
              "    </tr>\n",
              "    <tr>\n",
              "      <th>1</th>\n",
              "      <td>2</td>\n",
              "      <td>324</td>\n",
              "      <td>107</td>\n",
              "      <td>4</td>\n",
              "      <td>4.0</td>\n",
              "      <td>4.5</td>\n",
              "      <td>8.87</td>\n",
              "      <td>1</td>\n",
              "      <td>0.76</td>\n",
              "    </tr>\n",
              "    <tr>\n",
              "      <th>2</th>\n",
              "      <td>3</td>\n",
              "      <td>316</td>\n",
              "      <td>104</td>\n",
              "      <td>3</td>\n",
              "      <td>3.0</td>\n",
              "      <td>3.5</td>\n",
              "      <td>8.00</td>\n",
              "      <td>1</td>\n",
              "      <td>0.72</td>\n",
              "    </tr>\n",
              "    <tr>\n",
              "      <th>3</th>\n",
              "      <td>4</td>\n",
              "      <td>322</td>\n",
              "      <td>110</td>\n",
              "      <td>3</td>\n",
              "      <td>3.5</td>\n",
              "      <td>2.5</td>\n",
              "      <td>8.67</td>\n",
              "      <td>1</td>\n",
              "      <td>0.80</td>\n",
              "    </tr>\n",
              "    <tr>\n",
              "      <th>4</th>\n",
              "      <td>5</td>\n",
              "      <td>314</td>\n",
              "      <td>103</td>\n",
              "      <td>2</td>\n",
              "      <td>2.0</td>\n",
              "      <td>3.0</td>\n",
              "      <td>8.21</td>\n",
              "      <td>0</td>\n",
              "      <td>0.65</td>\n",
              "    </tr>\n",
              "    <tr>\n",
              "      <th>5</th>\n",
              "      <td>6</td>\n",
              "      <td>330</td>\n",
              "      <td>115</td>\n",
              "      <td>5</td>\n",
              "      <td>4.5</td>\n",
              "      <td>3.0</td>\n",
              "      <td>9.34</td>\n",
              "      <td>1</td>\n",
              "      <td>0.90</td>\n",
              "    </tr>\n",
              "    <tr>\n",
              "      <th>6</th>\n",
              "      <td>7</td>\n",
              "      <td>321</td>\n",
              "      <td>109</td>\n",
              "      <td>3</td>\n",
              "      <td>3.0</td>\n",
              "      <td>4.0</td>\n",
              "      <td>8.20</td>\n",
              "      <td>1</td>\n",
              "      <td>0.75</td>\n",
              "    </tr>\n",
              "    <tr>\n",
              "      <th>7</th>\n",
              "      <td>8</td>\n",
              "      <td>308</td>\n",
              "      <td>101</td>\n",
              "      <td>2</td>\n",
              "      <td>3.0</td>\n",
              "      <td>4.0</td>\n",
              "      <td>7.90</td>\n",
              "      <td>0</td>\n",
              "      <td>0.68</td>\n",
              "    </tr>\n",
              "    <tr>\n",
              "      <th>8</th>\n",
              "      <td>9</td>\n",
              "      <td>302</td>\n",
              "      <td>102</td>\n",
              "      <td>1</td>\n",
              "      <td>2.0</td>\n",
              "      <td>1.5</td>\n",
              "      <td>8.00</td>\n",
              "      <td>0</td>\n",
              "      <td>0.50</td>\n",
              "    </tr>\n",
              "    <tr>\n",
              "      <th>9</th>\n",
              "      <td>10</td>\n",
              "      <td>323</td>\n",
              "      <td>108</td>\n",
              "      <td>3</td>\n",
              "      <td>3.5</td>\n",
              "      <td>3.0</td>\n",
              "      <td>8.60</td>\n",
              "      <td>0</td>\n",
              "      <td>0.45</td>\n",
              "    </tr>\n",
              "  </tbody>\n",
              "</table>\n",
              "</div>"
            ],
            "text/plain": [
              "   Serial No.  GRE Score  TOEFL Score  University Rating  SOP  LOR  CGPA  \\\n",
              "0           1        337          118                  4  4.5  4.5  9.65   \n",
              "1           2        324          107                  4  4.0  4.5  8.87   \n",
              "2           3        316          104                  3  3.0  3.5  8.00   \n",
              "3           4        322          110                  3  3.5  2.5  8.67   \n",
              "4           5        314          103                  2  2.0  3.0  8.21   \n",
              "5           6        330          115                  5  4.5  3.0  9.34   \n",
              "6           7        321          109                  3  3.0  4.0  8.20   \n",
              "7           8        308          101                  2  3.0  4.0  7.90   \n",
              "8           9        302          102                  1  2.0  1.5  8.00   \n",
              "9          10        323          108                  3  3.5  3.0  8.60   \n",
              "\n",
              "   Research  Chance of Admit  \n",
              "0         1             0.92  \n",
              "1         1             0.76  \n",
              "2         1             0.72  \n",
              "3         1             0.80  \n",
              "4         0             0.65  \n",
              "5         1             0.90  \n",
              "6         1             0.75  \n",
              "7         0             0.68  \n",
              "8         0             0.50  \n",
              "9         0             0.45  "
            ]
          },
          "metadata": {
            "tags": []
          },
          "execution_count": 5
        }
      ]
    },
    {
      "cell_type": "markdown",
      "metadata": {
        "id": "0G9LbauW1KmS",
        "colab_type": "text"
      },
      "source": [
        "Conversely, `df.tail()` shows the last five. The `tail` command also accepts the optional input argument `n`,to show the last $n$ entries. So the last 10 entries of the dataset is:"
      ]
    },
    {
      "cell_type": "code",
      "metadata": {
        "id": "FIcdJipE1KmU",
        "colab_type": "code",
        "outputId": "70703410-473b-4dbc-8bc9-906d74e1b64d",
        "colab": {
          "base_uri": "https://localhost:8080/",
          "height": 343
        }
      },
      "source": [
        "# Print out the last ten entries of the dataset\n",
        "df.tail(10)"
      ],
      "execution_count": 0,
      "outputs": [
        {
          "output_type": "execute_result",
          "data": {
            "text/html": [
              "<div>\n",
              "<style scoped>\n",
              "    .dataframe tbody tr th:only-of-type {\n",
              "        vertical-align: middle;\n",
              "    }\n",
              "\n",
              "    .dataframe tbody tr th {\n",
              "        vertical-align: top;\n",
              "    }\n",
              "\n",
              "    .dataframe thead th {\n",
              "        text-align: right;\n",
              "    }\n",
              "</style>\n",
              "<table border=\"1\" class=\"dataframe\">\n",
              "  <thead>\n",
              "    <tr style=\"text-align: right;\">\n",
              "      <th></th>\n",
              "      <th>Serial No.</th>\n",
              "      <th>GRE Score</th>\n",
              "      <th>TOEFL Score</th>\n",
              "      <th>University Rating</th>\n",
              "      <th>SOP</th>\n",
              "      <th>LOR</th>\n",
              "      <th>CGPA</th>\n",
              "      <th>Research</th>\n",
              "      <th>Chance of Admit</th>\n",
              "    </tr>\n",
              "  </thead>\n",
              "  <tbody>\n",
              "    <tr>\n",
              "      <th>490</th>\n",
              "      <td>491</td>\n",
              "      <td>307</td>\n",
              "      <td>105</td>\n",
              "      <td>2</td>\n",
              "      <td>2.5</td>\n",
              "      <td>4.5</td>\n",
              "      <td>8.12</td>\n",
              "      <td>1</td>\n",
              "      <td>0.67</td>\n",
              "    </tr>\n",
              "    <tr>\n",
              "      <th>491</th>\n",
              "      <td>492</td>\n",
              "      <td>297</td>\n",
              "      <td>99</td>\n",
              "      <td>4</td>\n",
              "      <td>3.0</td>\n",
              "      <td>3.5</td>\n",
              "      <td>7.81</td>\n",
              "      <td>0</td>\n",
              "      <td>0.54</td>\n",
              "    </tr>\n",
              "    <tr>\n",
              "      <th>492</th>\n",
              "      <td>493</td>\n",
              "      <td>298</td>\n",
              "      <td>101</td>\n",
              "      <td>4</td>\n",
              "      <td>2.5</td>\n",
              "      <td>4.5</td>\n",
              "      <td>7.69</td>\n",
              "      <td>1</td>\n",
              "      <td>0.53</td>\n",
              "    </tr>\n",
              "    <tr>\n",
              "      <th>493</th>\n",
              "      <td>494</td>\n",
              "      <td>300</td>\n",
              "      <td>95</td>\n",
              "      <td>2</td>\n",
              "      <td>3.0</td>\n",
              "      <td>1.5</td>\n",
              "      <td>8.22</td>\n",
              "      <td>1</td>\n",
              "      <td>0.62</td>\n",
              "    </tr>\n",
              "    <tr>\n",
              "      <th>494</th>\n",
              "      <td>495</td>\n",
              "      <td>301</td>\n",
              "      <td>99</td>\n",
              "      <td>3</td>\n",
              "      <td>2.5</td>\n",
              "      <td>2.0</td>\n",
              "      <td>8.45</td>\n",
              "      <td>1</td>\n",
              "      <td>0.68</td>\n",
              "    </tr>\n",
              "    <tr>\n",
              "      <th>495</th>\n",
              "      <td>496</td>\n",
              "      <td>332</td>\n",
              "      <td>108</td>\n",
              "      <td>5</td>\n",
              "      <td>4.5</td>\n",
              "      <td>4.0</td>\n",
              "      <td>9.02</td>\n",
              "      <td>1</td>\n",
              "      <td>0.87</td>\n",
              "    </tr>\n",
              "    <tr>\n",
              "      <th>496</th>\n",
              "      <td>497</td>\n",
              "      <td>337</td>\n",
              "      <td>117</td>\n",
              "      <td>5</td>\n",
              "      <td>5.0</td>\n",
              "      <td>5.0</td>\n",
              "      <td>9.87</td>\n",
              "      <td>1</td>\n",
              "      <td>0.96</td>\n",
              "    </tr>\n",
              "    <tr>\n",
              "      <th>497</th>\n",
              "      <td>498</td>\n",
              "      <td>330</td>\n",
              "      <td>120</td>\n",
              "      <td>5</td>\n",
              "      <td>4.5</td>\n",
              "      <td>5.0</td>\n",
              "      <td>9.56</td>\n",
              "      <td>1</td>\n",
              "      <td>0.93</td>\n",
              "    </tr>\n",
              "    <tr>\n",
              "      <th>498</th>\n",
              "      <td>499</td>\n",
              "      <td>312</td>\n",
              "      <td>103</td>\n",
              "      <td>4</td>\n",
              "      <td>4.0</td>\n",
              "      <td>5.0</td>\n",
              "      <td>8.43</td>\n",
              "      <td>0</td>\n",
              "      <td>0.73</td>\n",
              "    </tr>\n",
              "    <tr>\n",
              "      <th>499</th>\n",
              "      <td>500</td>\n",
              "      <td>327</td>\n",
              "      <td>113</td>\n",
              "      <td>4</td>\n",
              "      <td>4.5</td>\n",
              "      <td>4.5</td>\n",
              "      <td>9.04</td>\n",
              "      <td>0</td>\n",
              "      <td>0.84</td>\n",
              "    </tr>\n",
              "  </tbody>\n",
              "</table>\n",
              "</div>"
            ],
            "text/plain": [
              "     Serial No.  GRE Score  TOEFL Score  University Rating  SOP  LOR  CGPA  \\\n",
              "490         491        307          105                  2  2.5  4.5  8.12   \n",
              "491         492        297           99                  4  3.0  3.5  7.81   \n",
              "492         493        298          101                  4  2.5  4.5  7.69   \n",
              "493         494        300           95                  2  3.0  1.5  8.22   \n",
              "494         495        301           99                  3  2.5  2.0  8.45   \n",
              "495         496        332          108                  5  4.5  4.0  9.02   \n",
              "496         497        337          117                  5  5.0  5.0  9.87   \n",
              "497         498        330          120                  5  4.5  5.0  9.56   \n",
              "498         499        312          103                  4  4.0  5.0  8.43   \n",
              "499         500        327          113                  4  4.5  4.5  9.04   \n",
              "\n",
              "     Research  Chance of Admit  \n",
              "490         1             0.67  \n",
              "491         0             0.54  \n",
              "492         1             0.53  \n",
              "493         1             0.62  \n",
              "494         1             0.68  \n",
              "495         1             0.87  \n",
              "496         1             0.96  \n",
              "497         1             0.93  \n",
              "498         0             0.73  \n",
              "499         0             0.84  "
            ]
          },
          "metadata": {
            "tags": []
          },
          "execution_count": 6
        }
      ]
    },
    {
      "cell_type": "markdown",
      "metadata": {
        "id": "gj-qDrEn1Kmc",
        "colab_type": "text"
      },
      "source": [
        "### Dataset Manipulation\n",
        "Those two commands are a simple means of viewing how the data is organized and formatted, and helps the modeller realize what needs to be done in terms of cleaning.\n",
        "\n",
        "Using `head` and `tail` we see that this dataset contains the column `CGPA`. This is a 10 point grading scale used commonly in foreign countries, so we want to add column that transforms the 10 point scale into a *4* point scale, because you may want to predict your chances of admittance using a the GPA scale."
      ]
    },
    {
      "cell_type": "markdown",
      "metadata": {
        "id": "73BRBTh_1Kmf",
        "colab_type": "text"
      },
      "source": [
        "#### Adding a New Column\n",
        "To add a new column to our DataFrame object we can use the `df.insert` module to create a new column, and place it directly next to the CGPA column, for convenient comparison."
      ]
    },
    {
      "cell_type": "code",
      "metadata": {
        "id": "sC3RTNpM1Kmh",
        "colab_type": "code",
        "outputId": "8907a259-ccc7-4bb1-cffe-f1a6b54c853a",
        "colab": {
          "base_uri": "https://localhost:8080/",
          "height": 195
        }
      },
      "source": [
        "# Create the new column \"GPA\", which equals 4*\"CGPA\"/10, and place it after the 6th column\n",
        "df.insert(6,'GPA', 4*df['CGPA']/10)\n",
        "df.head()"
      ],
      "execution_count": 0,
      "outputs": [
        {
          "output_type": "execute_result",
          "data": {
            "text/html": [
              "<div>\n",
              "<style scoped>\n",
              "    .dataframe tbody tr th:only-of-type {\n",
              "        vertical-align: middle;\n",
              "    }\n",
              "\n",
              "    .dataframe tbody tr th {\n",
              "        vertical-align: top;\n",
              "    }\n",
              "\n",
              "    .dataframe thead th {\n",
              "        text-align: right;\n",
              "    }\n",
              "</style>\n",
              "<table border=\"1\" class=\"dataframe\">\n",
              "  <thead>\n",
              "    <tr style=\"text-align: right;\">\n",
              "      <th></th>\n",
              "      <th>Serial No.</th>\n",
              "      <th>GRE Score</th>\n",
              "      <th>TOEFL Score</th>\n",
              "      <th>University Rating</th>\n",
              "      <th>SOP</th>\n",
              "      <th>LOR</th>\n",
              "      <th>GPA</th>\n",
              "      <th>CGPA</th>\n",
              "      <th>Research</th>\n",
              "      <th>Chance of Admit</th>\n",
              "    </tr>\n",
              "  </thead>\n",
              "  <tbody>\n",
              "    <tr>\n",
              "      <th>0</th>\n",
              "      <td>1</td>\n",
              "      <td>337</td>\n",
              "      <td>118</td>\n",
              "      <td>4</td>\n",
              "      <td>4.5</td>\n",
              "      <td>4.5</td>\n",
              "      <td>3.860</td>\n",
              "      <td>9.65</td>\n",
              "      <td>1</td>\n",
              "      <td>0.92</td>\n",
              "    </tr>\n",
              "    <tr>\n",
              "      <th>1</th>\n",
              "      <td>2</td>\n",
              "      <td>324</td>\n",
              "      <td>107</td>\n",
              "      <td>4</td>\n",
              "      <td>4.0</td>\n",
              "      <td>4.5</td>\n",
              "      <td>3.548</td>\n",
              "      <td>8.87</td>\n",
              "      <td>1</td>\n",
              "      <td>0.76</td>\n",
              "    </tr>\n",
              "    <tr>\n",
              "      <th>2</th>\n",
              "      <td>3</td>\n",
              "      <td>316</td>\n",
              "      <td>104</td>\n",
              "      <td>3</td>\n",
              "      <td>3.0</td>\n",
              "      <td>3.5</td>\n",
              "      <td>3.200</td>\n",
              "      <td>8.00</td>\n",
              "      <td>1</td>\n",
              "      <td>0.72</td>\n",
              "    </tr>\n",
              "    <tr>\n",
              "      <th>3</th>\n",
              "      <td>4</td>\n",
              "      <td>322</td>\n",
              "      <td>110</td>\n",
              "      <td>3</td>\n",
              "      <td>3.5</td>\n",
              "      <td>2.5</td>\n",
              "      <td>3.468</td>\n",
              "      <td>8.67</td>\n",
              "      <td>1</td>\n",
              "      <td>0.80</td>\n",
              "    </tr>\n",
              "    <tr>\n",
              "      <th>4</th>\n",
              "      <td>5</td>\n",
              "      <td>314</td>\n",
              "      <td>103</td>\n",
              "      <td>2</td>\n",
              "      <td>2.0</td>\n",
              "      <td>3.0</td>\n",
              "      <td>3.284</td>\n",
              "      <td>8.21</td>\n",
              "      <td>0</td>\n",
              "      <td>0.65</td>\n",
              "    </tr>\n",
              "  </tbody>\n",
              "</table>\n",
              "</div>"
            ],
            "text/plain": [
              "   Serial No.  GRE Score  TOEFL Score  University Rating  SOP  LOR    GPA  \\\n",
              "0           1        337          118                  4  4.5  4.5  3.860   \n",
              "1           2        324          107                  4  4.0  4.5  3.548   \n",
              "2           3        316          104                  3  3.0  3.5  3.200   \n",
              "3           4        322          110                  3  3.5  2.5  3.468   \n",
              "4           5        314          103                  2  2.0  3.0  3.284   \n",
              "\n",
              "   CGPA  Research  Chance of Admit  \n",
              "0  9.65         1             0.92  \n",
              "1  8.87         1             0.76  \n",
              "2  8.00         1             0.72  \n",
              "3  8.67         1             0.80  \n",
              "4  8.21         0             0.65  "
            ]
          },
          "metadata": {
            "tags": []
          },
          "execution_count": 7
        }
      ]
    },
    {
      "cell_type": "markdown",
      "metadata": {
        "id": "gmGr0waL1Kms",
        "colab_type": "text"
      },
      "source": [
        "### Statistical Measures \n",
        "Another `pandas` function that is useful for exploratory analysis is `df.mean()`, which returns the average across all features. The mean for each feature in our example is:"
      ]
    },
    {
      "cell_type": "code",
      "metadata": {
        "id": "o9PZPpEo1Kmv",
        "colab_type": "code",
        "outputId": "be97cf41-7420-42bf-b4e5-930aebbc8c19",
        "colab": {
          "base_uri": "https://localhost:8080/",
          "height": 202
        }
      },
      "source": [
        "# Show the mean for each feature\n",
        "df.mean()"
      ],
      "execution_count": 0,
      "outputs": [
        {
          "output_type": "execute_result",
          "data": {
            "text/plain": [
              "Serial No.           250.500000\n",
              "GRE Score            316.472000\n",
              "TOEFL Score          107.192000\n",
              "University Rating      3.114000\n",
              "SOP                    3.374000\n",
              "LOR                    3.484000\n",
              "GPA                    3.430576\n",
              "CGPA                   8.576440\n",
              "Research               0.560000\n",
              "Chance of Admit        0.721740\n",
              "dtype: float64"
            ]
          },
          "metadata": {
            "tags": []
          },
          "execution_count": 9
        }
      ]
    },
    {
      "cell_type": "markdown",
      "metadata": {
        "id": "mMw9UfxM1Kmz",
        "colab_type": "text"
      },
      "source": [
        "### More Statistics\n",
        "`df.describe()` provides more statistical information about each feature, such as the mean, max, min, standard deviation, and quantile information."
      ]
    },
    {
      "cell_type": "markdown",
      "metadata": {
        "id": "FnCoL-Jh1Km1",
        "colab_type": "text"
      },
      "source": [
        "**(TODO) Use the describe method of the DataFrame, `df.describe()` to see more statistics.**"
      ]
    },
    {
      "cell_type": "code",
      "metadata": {
        "id": "RoVbaE-u1Km2",
        "colab_type": "code",
        "outputId": "2099984b-d26a-455e-ac99-bd575ed0488f",
        "colab": {
          "base_uri": "https://localhost:8080/",
          "height": 336
        }
      },
      "source": [
        "# Show more statistical metrics of each feature using df.describe()\n",
        "print(df.describe())"
      ],
      "execution_count": 0,
      "outputs": [
        {
          "output_type": "stream",
          "text": [
            "       Serial No.   GRE Score  TOEFL Score  University Rating         SOP  \\\n",
            "count  500.000000  500.000000   500.000000         500.000000  500.000000   \n",
            "mean   250.500000  316.472000   107.192000           3.114000    3.374000   \n",
            "std    144.481833   11.295148     6.081868           1.143512    0.991004   \n",
            "min      1.000000  290.000000    92.000000           1.000000    1.000000   \n",
            "25%    125.750000  308.000000   103.000000           2.000000    2.500000   \n",
            "50%    250.500000  317.000000   107.000000           3.000000    3.500000   \n",
            "75%    375.250000  325.000000   112.000000           4.000000    4.000000   \n",
            "max    500.000000  340.000000   120.000000           5.000000    5.000000   \n",
            "\n",
            "             LOR         GPA        CGPA    Research  Chance of Admit  \n",
            "count  500.00000  500.000000  500.000000  500.000000        500.00000  \n",
            "mean     3.48400    3.430576    8.576440    0.560000          0.72174  \n",
            "std      0.92545    0.241925    0.604813    0.496884          0.14114  \n",
            "min      1.00000    2.720000    6.800000    0.000000          0.34000  \n",
            "25%      3.00000    3.251000    8.127500    0.000000          0.63000  \n",
            "50%      3.50000    3.424000    8.560000    1.000000          0.72000  \n",
            "75%      4.00000    3.616000    9.040000    1.000000          0.82000  \n",
            "max      5.00000    3.968000    9.920000    1.000000          0.97000  \n"
          ],
          "name": "stdout"
        }
      ]
    },
    {
      "cell_type": "markdown",
      "metadata": {
        "id": "MCxKzw2_1Km8",
        "colab_type": "text"
      },
      "source": [
        "### Exploring the Dataset: Correlations\n",
        "Plotting features against one another can help visualize if there is a \"dependancy\" between the two features, or statistically speaking, if the two features are correlated.  "
      ]
    },
    {
      "cell_type": "code",
      "metadata": {
        "id": "dBsazPZD1Km_",
        "colab_type": "code",
        "outputId": "53ab140a-8251-4521-dd49-c1268d35d87d",
        "colab": {
          "base_uri": "https://localhost:8080/",
          "height": 333
        }
      },
      "source": [
        "%matplotlib inline\n",
        "import matplotlib.pyplot as plt\n",
        "df.plot(x='CGPA', y='GPA', \n",
        "        kind='scatter',title='Correlated Features',fontsize=12)\n",
        "plt.show()"
      ],
      "execution_count": 0,
      "outputs": [
        {
          "output_type": "stream",
          "text": [
            "'c' argument looks like a single numeric RGB or RGBA sequence, which should be avoided as value-mapping will have precedence in case its length matches with 'x' & 'y'.  Please use a 2-D array with a single row if you really want to specify the same RGB or RGBA value for all points.\n"
          ],
          "name": "stderr"
        },
        {
          "output_type": "display_data",
          "data": {
            "image/png": "[encoded data removed]",
            "text/plain": [
              "<Figure size 432x288 with 1 Axes>"
            ]
          },
          "metadata": {
            "tags": []
          }
        }
      ]
    },
    {
      "cell_type": "markdown",
      "metadata": {
        "id": "l4APC37v1KnK",
        "colab_type": "text"
      },
      "source": [
        "#### Less Correlated, but still Correlated\n",
        "The figure above shows two features that are directly correlated, CGPA and GPA.  To put it simply correlation implies that two feature follow similar trends, i.e. as CGPA increases, GPA increases. In all fairness, GPA was calculated using CGPA, so they should be correlated.  However, two features from the dataset whose correlation may not be so obvious is the applicant's GRE score and their GPA. In the plot below the features still show similar trends, but they're less correlated than the previous two features."
      ]
    },
    {
      "cell_type": "code",
      "metadata": {
        "id": "vF9eUbo51KnN",
        "colab_type": "code",
        "outputId": "54bebf2d-37b5-4565-db42-e57aca47e5fd",
        "colab": {
          "base_uri": "https://localhost:8080/",
          "height": 333
        }
      },
      "source": [
        "df.plot(x='GPA', y='GRE Score', \n",
        "        kind='scatter',title='Correlated Features',fontsize=12)\n",
        "plt.show()"
      ],
      "execution_count": 0,
      "outputs": [
        {
          "output_type": "stream",
          "text": [
            "'c' argument looks like a single numeric RGB or RGBA sequence, which should be avoided as value-mapping will have precedence in case its length matches with 'x' & 'y'.  Please use a 2-D array with a single row if you really want to specify the same RGB or RGBA value for all points.\n"
          ],
          "name": "stderr"
        },
        {
          "output_type": "display_data",
          "data": {
            "image/png": "[encoded data removed]",
            "text/plain": [
              "<Figure size 432x288 with 1 Axes>"
            ]
          },
          "metadata": {
            "tags": []
          }
        }
      ]
    },
    {
      "cell_type": "markdown",
      "metadata": {
        "id": "5WGEQZPG1KnZ",
        "colab_type": "text"
      },
      "source": [
        "#### Uncorrelated Features\n",
        "Uncorrelated features should show no discerning pattern or trends between them. For instance, the quality of the applicant's letters of recommendation should have little to know bearing on how well they performed on the TOEFL. In fact their letters are written by someone completely different from them, hopefully! "
      ]
    },
    {
      "cell_type": "code",
      "metadata": {
        "id": "FULZq8Wl1Knb",
        "colab_type": "code",
        "outputId": "e7143447-e728-4a02-9f1a-eb113bd1270a",
        "colab": {
          "base_uri": "https://localhost:8080/",
          "height": 333
        }
      },
      "source": [
        "df.plot(x='TOEFL Score', y='LOR',\n",
        "        kind='scatter',title='Uncorrelated Features',fontsize=12)\n",
        "plt.show()"
      ],
      "execution_count": 0,
      "outputs": [
        {
          "output_type": "stream",
          "text": [
            "'c' argument looks like a single numeric RGB or RGBA sequence, which should be avoided as value-mapping will have precedence in case its length matches with 'x' & 'y'.  Please use a 2-D array with a single row if you really want to specify the same RGB or RGBA value for all points.\n"
          ],
          "name": "stderr"
        },
        {
          "output_type": "display_data",
          "data": {
            "image/png": "[encoded data removed]",
            "text/plain": [
              "<Figure size 432x288 with 1 Axes>"
            ]
          },
          "metadata": {
            "tags": []
          }
        }
      ]
    },
    {
      "cell_type": "markdown",
      "metadata": {
        "id": "GPHZoK5f1Knp",
        "colab_type": "text"
      },
      "source": [
        "**(TODO) Plot TOEFL Score (x='TOEFL Score') vs GRE Score(y='GRE Score') and use `plt.show()` to display the plot. Are the two values correlated?**"
      ]
    },
    {
      "cell_type": "code",
      "metadata": {
        "id": "4B5uLR0X1Knq",
        "colab_type": "code",
        "outputId": "85d9b651-f08d-4e77-f229-49698e09b451",
        "colab": {
          "base_uri": "https://localhost:8080/",
          "height": 350
        }
      },
      "source": [
        "# Fill in the missing arguments, and use plt.show() to display the plot\n",
        "df.plot(x='TOEFL Score' ,y='GRE Score', kind='scatter', title= \"TOEFL vs. GRE\", fontsize=12)"
      ],
      "execution_count": 0,
      "outputs": [
        {
          "output_type": "stream",
          "text": [
            "'c' argument looks like a single numeric RGB or RGBA sequence, which should be avoided as value-mapping will have precedence in case its length matches with 'x' & 'y'.  Please use a 2-D array with a single row if you really want to specify the same RGB or RGBA value for all points.\n"
          ],
          "name": "stderr"
        },
        {
          "output_type": "execute_result",
          "data": {
            "text/plain": [
              "<matplotlib.axes._subplots.AxesSubplot at 0x7f33eb8f6f98>"
            ]
          },
          "metadata": {
            "tags": []
          },
          "execution_count": 14
        },
        {
          "output_type": "display_data",
          "data": {
            "image/png": "[encoded data removed]",
            "text/plain": [
              "<Figure size 432x288 with 1 Axes>"
            ]
          },
          "metadata": {
            "tags": []
          }
        }
      ]
    },
    {
      "cell_type": "markdown",
      "metadata": {
        "id": "ryKIGo831Kny",
        "colab_type": "text"
      },
      "source": [
        "#### More on Correlations\n",
        "<p> Visualizations are a great means of seeing conceptually what something is, as in the case of correlation, but it is good practice to find the correlation mathematically. To find more information on the utility of correlation, visit this awesome <a href=\"https://www.datascience.com/blog/introduction-to-correlation-learn-data-science-tutorials\">\n",
        "post</a> on the different types of correlation and when to use them.</p>\n",
        "\n",
        "Now let's look at an example using the scikit-learn library to build a linear regression model!"
      ]
    },
    {
      "cell_type": "markdown",
      "metadata": {
        "id": "6kkFG5Sh1Kn0",
        "colab_type": "text"
      },
      "source": [
        "### Other Data Preparation Steps\n",
        "It is necessary to change categorical data, such as the Research, which is whether the applicant has research experience or not, into a numeric value. This process is called dummifying, and makes calculations more feasible. In addition to dummifying categorical terms, all missing values should be handled accordingly. Missing entries can be replaced with zeros, the average of the column, or imputed using other techniques. Their is no, one, definitive method to replace missing entries, as the best method depends on the specifics of the application. Fortunately, the curators of the `admissions` dataset have already dummified variables and cleaned the data, so it is ready for analysis after loading:"
      ]
    },
    {
      "cell_type": "markdown",
      "metadata": {
        "id": "aUQy9L4G1Kn1",
        "colab_type": "text"
      },
      "source": [
        "# Checkpoint - Exploratory Analysis\n",
        "In the Exploratory Analysis section the graduate school admissions dataset was load and converted into a `pandas.DataFrame` object. The conversion was made to enhance analysis capabilities. When loaded directly from `sklearn` the data is provided in two list objects; one contains the observations for the 8 features, and the remaining column of the dataset contains the probability of getting admitted. \n",
        "\n",
        "We then **manipulated** the dataset by inserting a new column at a desired location. Afterwards we observed some statistical properties "
      ]
    },
    {
      "cell_type": "markdown",
      "metadata": {
        "id": "lQ8Mt8121Kn3",
        "colab_type": "text"
      },
      "source": [
        "# Step 3: Getting the Answers\n",
        "![PA Work Flow4](https://github.com/vrtompki/Linear_Regression_Tutorial/blob/master/images/Predictive_Analysis_Flow4.png?raw=1)"
      ]
    },
    {
      "cell_type": "markdown",
      "metadata": {
        "id": "BhvUwyEK1Kn8",
        "colab_type": "text"
      },
      "source": [
        "## Applications of Linear Regressions\n",
        "From trend lines to mortality rates, linear regression appears in virtually every field due to its versatility. Linear regressions are a vital tool to any data scientist or data analyst due to their ability to capture accurate relationships using a relatively simple tool.\n",
        "\n",
        "**Simplicity should be the ultimate goal when analyzing data.**"
      ]
    },
    {
      "cell_type": "markdown",
      "metadata": {
        "id": "232MkRT21Kn_",
        "colab_type": "text"
      },
      "source": [
        "Remember earlier when the prevelance of similar regression issues where discussed? Here are some visuals that used linear regressions for similar issues."
      ]
    },
    {
      "cell_type": "markdown",
      "metadata": {
        "hide_input": false,
        "id": "1FMYR6xJ1KoF",
        "colab_type": "text"
      },
      "source": [
        "## Examples in Real-World Situations\n",
        "Here are some examples of linear regressions applied in the real world situations!\n",
        "\n",
        "#### GPA Example\n",
        "<img src=\"https://github.com/vrtompki/Linear_Regression_Tutorial/blob/master/linear_regression_examples/gpa_ex.jpg?raw=1\" alt=\"Drawing\" style=\"width: 300px;\" />\n",
        "\n",
        "#### Finance Example\n",
        "<img src=\"https://github.com/vrtompki/Linear_Regression_Tutorial/blob/master/linear_regression_examples/salary_ex.png?raw=1\" alt=\"Drawing\" style=\"width: 300px;\" />\n",
        "\n",
        "#### Medicine Example\n",
        "<img src=\"https://github.com/vrtompki/Linear_Regression_Tutorial/blob/master/linear_regression_examples/medicine_ex.jpg?raw=1\" alt=\"Drawing\" style=\"width: 300px;\" />"
      ]
    },
    {
      "cell_type": "markdown",
      "metadata": {
        "id": "zCJM8Lw-1KoH",
        "colab_type": "text"
      },
      "source": [
        "## Why Use Regressions???\n",
        "Regression refers to fitting some data to a function, thus, realizing a relationship between variables that may not be obvious upon initial inspection.\n",
        "\n",
        "We can describe one or more variables as a mathematical equation of one or more desired variables in the dataset. This allows individuals to be able to *predict* the value of variable, or response variable, using the present values of a model consisting of its terms. In terms of a linear regression, the model is to use a direct one-to-one mapping of terms to a response variable, thus the relationship being described is a *linear* one. \n",
        ">“It is likely that 90% or more of real-world applications of data mining end up with a relatively simple regression as the final model, typically after very careful data preparation, encoding, and creation of variables.” – James Wu and Stephen Coggeshall"
      ]
    },
    {
      "cell_type": "markdown",
      "metadata": {
        "id": "N7bP_r9U1KoM",
        "colab_type": "text"
      },
      "source": [
        "##  A Tiny Bit of Math...\n",
        "Consider the basic linear regression model to follow the syntax:\n",
        "\n",
        "$$ Y = \\beta X +\\epsilon$$ \n",
        "\n",
        "Does the equation look familiar? It is simply the equation for a line that possess the slope $\\beta$ and the intercept $\\epsilon$. This ability to describe a response with such simplicity is what makes the linear regression the perfect first tool in any data scientist's repitore.\n",
        "\n",
        "http://www.battaly.com/stat/geogebra/linearregression/"
      ]
    },
    {
      "cell_type": "markdown",
      "metadata": {
        "id": "s5U8AKuJ1KoP",
        "colab_type": "text"
      },
      "source": [
        "![regress in action](linear_regression_examples/regression_animated.gif \"regress in action\")"
      ]
    },
    {
      "cell_type": "markdown",
      "metadata": {
        "id": "yi8dHkDO1KoR",
        "colab_type": "text"
      },
      "source": [
        "## Model Creation Using Scikit-Learn \n",
        "<p> The beauty of working in Python is the access to packages that have been created to help data scientists and modellers do their analysis more efficiently, spending less time with writing code so they can spend more time analyzing. The scikit-learn library (known as the `sklearn` library) is a collection of machine learning tools for Python. For more information, visit their <a href=\"https://scikit-learn.org/stable/\">webpage</a>! There are plenty of examples, a list of commands, and more.<p>\n",
        "    \n",
        "The dataset used in this example was previously loaded, but to demonstrate the process from start to finish we begin by importing `pandas` so we can load the dataset."
      ]
    },
    {
      "cell_type": "markdown",
      "metadata": {
        "id": "2HmlHWQN1KoS",
        "colab_type": "text"
      },
      "source": [
        "**(TODO) Import the `pandas` package in python and call it `pd`.**"
      ]
    },
    {
      "cell_type": "code",
      "metadata": {
        "id": "fpe6h6971KoT",
        "colab_type": "code",
        "colab": {}
      },
      "source": [
        "# IMPORT the pandas module AND call it pd (import pandas as pd)\n",
        "import pandas as pd"
      ],
      "execution_count": 0,
      "outputs": []
    },
    {
      "cell_type": "markdown",
      "metadata": {
        "id": "SznrBYnj1KoW",
        "colab_type": "text"
      },
      "source": [
        "### Extracting The Response Term\n",
        "The response is the variable we eventually want to be able to predict. It is also referred to as the ***regressand***."
      ]
    },
    {
      "cell_type": "code",
      "metadata": {
        "id": "0IHvnijL1KoX",
        "colab_type": "code",
        "outputId": "bd4794df-19e1-4f00-de9c-d1c7497d5026",
        "colab": {
          "base_uri": "https://localhost:8080/",
          "height": 118
        }
      },
      "source": [
        "# Extract the regressand, Y, from the data frame\n",
        "sampleData_Y = df.loc[:,'Chance of Admit']\n",
        "sampleData_Y.head()"
      ],
      "execution_count": 0,
      "outputs": [
        {
          "output_type": "execute_result",
          "data": {
            "text/plain": [
              "0    0.92\n",
              "1    0.76\n",
              "2    0.72\n",
              "3    0.80\n",
              "4    0.65\n",
              "Name: Chance of Admit, dtype: float64"
            ]
          },
          "metadata": {
            "tags": []
          },
          "execution_count": 16
        }
      ]
    },
    {
      "cell_type": "markdown",
      "metadata": {
        "id": "Ny3J8Qy_1Kob",
        "colab_type": "text"
      },
      "source": [
        "### Extracting Our Observation Terms\n",
        "The observations are the feature values we want to use determine their relationship to the response to exploit for predictions. They are also known as the ***regressors***."
      ]
    },
    {
      "cell_type": "code",
      "metadata": {
        "scrolled": true,
        "id": "WDx7MGkr1Koe",
        "colab_type": "code",
        "outputId": "89317982-525b-4099-fd46-f479d16c5ea7",
        "colab": {
          "base_uri": "https://localhost:8080/",
          "height": 195
        }
      },
      "source": [
        "# Extract the regressors, X, from the data frame\n",
        "sampleData_X  = df.loc[:,'Serial No.':'Research']\n",
        "sampleData_X.columns\n",
        "sampleData_X.head()"
      ],
      "execution_count": 0,
      "outputs": [
        {
          "output_type": "execute_result",
          "data": {
            "text/html": [
              "<div>\n",
              "<style scoped>\n",
              "    .dataframe tbody tr th:only-of-type {\n",
              "        vertical-align: middle;\n",
              "    }\n",
              "\n",
              "    .dataframe tbody tr th {\n",
              "        vertical-align: top;\n",
              "    }\n",
              "\n",
              "    .dataframe thead th {\n",
              "        text-align: right;\n",
              "    }\n",
              "</style>\n",
              "<table border=\"1\" class=\"dataframe\">\n",
              "  <thead>\n",
              "    <tr style=\"text-align: right;\">\n",
              "      <th></th>\n",
              "      <th>Serial No.</th>\n",
              "      <th>GRE Score</th>\n",
              "      <th>TOEFL Score</th>\n",
              "      <th>University Rating</th>\n",
              "      <th>SOP</th>\n",
              "      <th>LOR</th>\n",
              "      <th>GPA</th>\n",
              "      <th>CGPA</th>\n",
              "      <th>Research</th>\n",
              "    </tr>\n",
              "  </thead>\n",
              "  <tbody>\n",
              "    <tr>\n",
              "      <th>0</th>\n",
              "      <td>1</td>\n",
              "      <td>337</td>\n",
              "      <td>118</td>\n",
              "      <td>4</td>\n",
              "      <td>4.5</td>\n",
              "      <td>4.5</td>\n",
              "      <td>3.860</td>\n",
              "      <td>9.65</td>\n",
              "      <td>1</td>\n",
              "    </tr>\n",
              "    <tr>\n",
              "      <th>1</th>\n",
              "      <td>2</td>\n",
              "      <td>324</td>\n",
              "      <td>107</td>\n",
              "      <td>4</td>\n",
              "      <td>4.0</td>\n",
              "      <td>4.5</td>\n",
              "      <td>3.548</td>\n",
              "      <td>8.87</td>\n",
              "      <td>1</td>\n",
              "    </tr>\n",
              "    <tr>\n",
              "      <th>2</th>\n",
              "      <td>3</td>\n",
              "      <td>316</td>\n",
              "      <td>104</td>\n",
              "      <td>3</td>\n",
              "      <td>3.0</td>\n",
              "      <td>3.5</td>\n",
              "      <td>3.200</td>\n",
              "      <td>8.00</td>\n",
              "      <td>1</td>\n",
              "    </tr>\n",
              "    <tr>\n",
              "      <th>3</th>\n",
              "      <td>4</td>\n",
              "      <td>322</td>\n",
              "      <td>110</td>\n",
              "      <td>3</td>\n",
              "      <td>3.5</td>\n",
              "      <td>2.5</td>\n",
              "      <td>3.468</td>\n",
              "      <td>8.67</td>\n",
              "      <td>1</td>\n",
              "    </tr>\n",
              "    <tr>\n",
              "      <th>4</th>\n",
              "      <td>5</td>\n",
              "      <td>314</td>\n",
              "      <td>103</td>\n",
              "      <td>2</td>\n",
              "      <td>2.0</td>\n",
              "      <td>3.0</td>\n",
              "      <td>3.284</td>\n",
              "      <td>8.21</td>\n",
              "      <td>0</td>\n",
              "    </tr>\n",
              "  </tbody>\n",
              "</table>\n",
              "</div>"
            ],
            "text/plain": [
              "   Serial No.  GRE Score  TOEFL Score  University Rating  SOP  LOR    GPA  \\\n",
              "0           1        337          118                  4  4.5  4.5  3.860   \n",
              "1           2        324          107                  4  4.0  4.5  3.548   \n",
              "2           3        316          104                  3  3.0  3.5  3.200   \n",
              "3           4        322          110                  3  3.5  2.5  3.468   \n",
              "4           5        314          103                  2  2.0  3.0  3.284   \n",
              "\n",
              "   CGPA  Research  \n",
              "0  9.65         1  \n",
              "1  8.87         1  \n",
              "2  8.00         1  \n",
              "3  8.67         1  \n",
              "4  8.21         0  "
            ]
          },
          "metadata": {
            "tags": []
          },
          "execution_count": 17
        }
      ]
    },
    {
      "cell_type": "markdown",
      "metadata": {
        "id": "OWAzwI1e1Kok",
        "colab_type": "text"
      },
      "source": [
        "### Some Additional Data Manipulation\n",
        "Often you may be confronted with many features, and not all of them will helpful for making predictions. To find the most informative, or most helpful, features we need to do some feature selection. For this example we want to find the best two features for making a prediction. The F-test is a great way to determine the significance of feature. We can use the `SelectKBest` module to select the `k=2` features for our analysis using the F-test results calculated using `f_regression`. Both modules are apart of the `scikit-learn` package. For more info on F-test and regressions check out this <a href=\"https://blog.minitab.com/blog/adventures-in-statistics-2/what-is-the-f-test-of-overall-significance-in-regression-analysis\">link</a>."
      ]
    },
    {
      "cell_type": "code",
      "metadata": {
        "scrolled": true,
        "id": "995rscUo1Kol",
        "colab_type": "code",
        "outputId": "1271fe88-cb08-4066-a56e-b740010b241c",
        "colab": {
          "base_uri": "https://localhost:8080/",
          "height": 195
        }
      },
      "source": [
        "from sklearn.feature_selection import SelectKBest, f_regression\n",
        "k=2\n",
        "selector = SelectKBest(f_regression,k=k)\n",
        "selector.fit(sampleData_X, sampleData_Y)\n",
        "best_feats = selector.get_support(indices=True)\n",
        "xTrain_best = sampleData_X.iloc[:,best_feats]\n",
        "xTrain_best.head()"
      ],
      "execution_count": 0,
      "outputs": [
        {
          "output_type": "execute_result",
          "data": {
            "text/html": [
              "<div>\n",
              "<style scoped>\n",
              "    .dataframe tbody tr th:only-of-type {\n",
              "        vertical-align: middle;\n",
              "    }\n",
              "\n",
              "    .dataframe tbody tr th {\n",
              "        vertical-align: top;\n",
              "    }\n",
              "\n",
              "    .dataframe thead th {\n",
              "        text-align: right;\n",
              "    }\n",
              "</style>\n",
              "<table border=\"1\" class=\"dataframe\">\n",
              "  <thead>\n",
              "    <tr style=\"text-align: right;\">\n",
              "      <th></th>\n",
              "      <th>GPA</th>\n",
              "      <th>CGPA</th>\n",
              "    </tr>\n",
              "  </thead>\n",
              "  <tbody>\n",
              "    <tr>\n",
              "      <th>0</th>\n",
              "      <td>3.860</td>\n",
              "      <td>9.65</td>\n",
              "    </tr>\n",
              "    <tr>\n",
              "      <th>1</th>\n",
              "      <td>3.548</td>\n",
              "      <td>8.87</td>\n",
              "    </tr>\n",
              "    <tr>\n",
              "      <th>2</th>\n",
              "      <td>3.200</td>\n",
              "      <td>8.00</td>\n",
              "    </tr>\n",
              "    <tr>\n",
              "      <th>3</th>\n",
              "      <td>3.468</td>\n",
              "      <td>8.67</td>\n",
              "    </tr>\n",
              "    <tr>\n",
              "      <th>4</th>\n",
              "      <td>3.284</td>\n",
              "      <td>8.21</td>\n",
              "    </tr>\n",
              "  </tbody>\n",
              "</table>\n",
              "</div>"
            ],
            "text/plain": [
              "     GPA  CGPA\n",
              "0  3.860  9.65\n",
              "1  3.548  8.87\n",
              "2  3.200  8.00\n",
              "3  3.468  8.67\n",
              "4  3.284  8.21"
            ]
          },
          "metadata": {
            "tags": []
          },
          "execution_count": 18
        }
      ]
    },
    {
      "cell_type": "markdown",
      "metadata": {
        "id": "IHWc81un1Kop",
        "colab_type": "text"
      },
      "source": [
        "Notice that one of the best features is `GPA`, which is essentially a transformation of `CGPA`. We know that these two features are very correlated, and correlation affects which features provide the most information. It could be concluded that grade is great indicator for probability of acceptance, and thus we should investigate if only one version is needed, and how this changes the top features. For the sake of readibility we can get rid of the `CGPA`, which is a 10 point scale for grading, and then find the top 2 features."
      ]
    },
    {
      "cell_type": "code",
      "metadata": {
        "id": "n3WirEHc1Kop",
        "colab_type": "code",
        "outputId": "482ed2e3-9539-4fc2-e0a5-1fe22560f406",
        "colab": {
          "base_uri": "https://localhost:8080/",
          "height": 195
        }
      },
      "source": [
        "# Drop or delete 'CGPA' from the columns\n",
        "newX_train = sampleData_X.drop('CGPA',axis=1)\n",
        "newX_train.head()"
      ],
      "execution_count": 0,
      "outputs": [
        {
          "output_type": "execute_result",
          "data": {
            "text/html": [
              "<div>\n",
              "<style scoped>\n",
              "    .dataframe tbody tr th:only-of-type {\n",
              "        vertical-align: middle;\n",
              "    }\n",
              "\n",
              "    .dataframe tbody tr th {\n",
              "        vertical-align: top;\n",
              "    }\n",
              "\n",
              "    .dataframe thead th {\n",
              "        text-align: right;\n",
              "    }\n",
              "</style>\n",
              "<table border=\"1\" class=\"dataframe\">\n",
              "  <thead>\n",
              "    <tr style=\"text-align: right;\">\n",
              "      <th></th>\n",
              "      <th>Serial No.</th>\n",
              "      <th>GRE Score</th>\n",
              "      <th>TOEFL Score</th>\n",
              "      <th>University Rating</th>\n",
              "      <th>SOP</th>\n",
              "      <th>LOR</th>\n",
              "      <th>GPA</th>\n",
              "      <th>Research</th>\n",
              "    </tr>\n",
              "  </thead>\n",
              "  <tbody>\n",
              "    <tr>\n",
              "      <th>0</th>\n",
              "      <td>1</td>\n",
              "      <td>337</td>\n",
              "      <td>118</td>\n",
              "      <td>4</td>\n",
              "      <td>4.5</td>\n",
              "      <td>4.5</td>\n",
              "      <td>3.860</td>\n",
              "      <td>1</td>\n",
              "    </tr>\n",
              "    <tr>\n",
              "      <th>1</th>\n",
              "      <td>2</td>\n",
              "      <td>324</td>\n",
              "      <td>107</td>\n",
              "      <td>4</td>\n",
              "      <td>4.0</td>\n",
              "      <td>4.5</td>\n",
              "      <td>3.548</td>\n",
              "      <td>1</td>\n",
              "    </tr>\n",
              "    <tr>\n",
              "      <th>2</th>\n",
              "      <td>3</td>\n",
              "      <td>316</td>\n",
              "      <td>104</td>\n",
              "      <td>3</td>\n",
              "      <td>3.0</td>\n",
              "      <td>3.5</td>\n",
              "      <td>3.200</td>\n",
              "      <td>1</td>\n",
              "    </tr>\n",
              "    <tr>\n",
              "      <th>3</th>\n",
              "      <td>4</td>\n",
              "      <td>322</td>\n",
              "      <td>110</td>\n",
              "      <td>3</td>\n",
              "      <td>3.5</td>\n",
              "      <td>2.5</td>\n",
              "      <td>3.468</td>\n",
              "      <td>1</td>\n",
              "    </tr>\n",
              "    <tr>\n",
              "      <th>4</th>\n",
              "      <td>5</td>\n",
              "      <td>314</td>\n",
              "      <td>103</td>\n",
              "      <td>2</td>\n",
              "      <td>2.0</td>\n",
              "      <td>3.0</td>\n",
              "      <td>3.284</td>\n",
              "      <td>0</td>\n",
              "    </tr>\n",
              "  </tbody>\n",
              "</table>\n",
              "</div>"
            ],
            "text/plain": [
              "   Serial No.  GRE Score  TOEFL Score  University Rating  SOP  LOR    GPA  \\\n",
              "0           1        337          118                  4  4.5  4.5  3.860   \n",
              "1           2        324          107                  4  4.0  4.5  3.548   \n",
              "2           3        316          104                  3  3.0  3.5  3.200   \n",
              "3           4        322          110                  3  3.5  2.5  3.468   \n",
              "4           5        314          103                  2  2.0  3.0  3.284   \n",
              "\n",
              "   Research  \n",
              "0         1  \n",
              "1         1  \n",
              "2         1  \n",
              "3         1  \n",
              "4         0  "
            ]
          },
          "metadata": {
            "tags": []
          },
          "execution_count": 20
        }
      ]
    },
    {
      "cell_type": "markdown",
      "metadata": {
        "id": "GULPFYBK1Kot",
        "colab_type": "text"
      },
      "source": [
        "Now that the similar column has been drop let's find the new top features!"
      ]
    },
    {
      "cell_type": "code",
      "metadata": {
        "id": "sBK4953a1Kov",
        "colab_type": "code",
        "outputId": "a96662cb-b0b2-4e62-d8c3-0476cff0c3ca",
        "colab": {
          "base_uri": "https://localhost:8080/",
          "height": 195
        }
      },
      "source": [
        "from sklearn.feature_selection import SelectKBest, f_regression\n",
        "selector = SelectKBest(f_regression,k=k)\n",
        "newX_feats = selector.fit_transform(newX_train, sampleData_Y)\n",
        "best_feats = selector.get_support(indices=True)\n",
        "xTrain_best = newX_train.iloc[:,best_feats]\n",
        "xTrain_best.head()"
      ],
      "execution_count": 0,
      "outputs": [
        {
          "output_type": "execute_result",
          "data": {
            "text/html": [
              "<div>\n",
              "<style scoped>\n",
              "    .dataframe tbody tr th:only-of-type {\n",
              "        vertical-align: middle;\n",
              "    }\n",
              "\n",
              "    .dataframe tbody tr th {\n",
              "        vertical-align: top;\n",
              "    }\n",
              "\n",
              "    .dataframe thead th {\n",
              "        text-align: right;\n",
              "    }\n",
              "</style>\n",
              "<table border=\"1\" class=\"dataframe\">\n",
              "  <thead>\n",
              "    <tr style=\"text-align: right;\">\n",
              "      <th></th>\n",
              "      <th>GRE Score</th>\n",
              "      <th>GPA</th>\n",
              "    </tr>\n",
              "  </thead>\n",
              "  <tbody>\n",
              "    <tr>\n",
              "      <th>0</th>\n",
              "      <td>337</td>\n",
              "      <td>3.860</td>\n",
              "    </tr>\n",
              "    <tr>\n",
              "      <th>1</th>\n",
              "      <td>324</td>\n",
              "      <td>3.548</td>\n",
              "    </tr>\n",
              "    <tr>\n",
              "      <th>2</th>\n",
              "      <td>316</td>\n",
              "      <td>3.200</td>\n",
              "    </tr>\n",
              "    <tr>\n",
              "      <th>3</th>\n",
              "      <td>322</td>\n",
              "      <td>3.468</td>\n",
              "    </tr>\n",
              "    <tr>\n",
              "      <th>4</th>\n",
              "      <td>314</td>\n",
              "      <td>3.284</td>\n",
              "    </tr>\n",
              "  </tbody>\n",
              "</table>\n",
              "</div>"
            ],
            "text/plain": [
              "   GRE Score    GPA\n",
              "0        337  3.860\n",
              "1        324  3.548\n",
              "2        316  3.200\n",
              "3        322  3.468\n",
              "4        314  3.284"
            ]
          },
          "metadata": {
            "tags": []
          },
          "execution_count": 21
        }
      ]
    },
    {
      "cell_type": "markdown",
      "metadata": {
        "id": "f4l4OOAc1Ko3",
        "colab_type": "text"
      },
      "source": [
        "What are the new top features? This is why exploratory analysis is significant prior to modelling the data! Notice that university rating is not in the top two most informative features. This could be to the subjective nature of the rating metric. One may think that, say an Ivy League school, would be harder to get into, which would be harder to get in. This could be a form of observer bias, where the modeller or research would expect a certain result, and therefore try to see the result manifested in the work. It is important to remain objective, and if there are any doubts, note how the data was collected and proceed with the investigation.\n",
        "\n",
        "We now have the most informative features for calculating the probability of getting accepted to a graduate school program, and the data has been separated into the $X$ and $Y$ sets, it is time to import some modules to help us build, train, and evaluate a linear regression model:"
      ]
    },
    {
      "cell_type": "code",
      "metadata": {
        "id": "u11XB_iV1Ko5",
        "colab_type": "code",
        "colab": {}
      },
      "source": [
        "from sklearn.model_selection import train_test_split # Function for random splitting of data set\n",
        "from sklearn import linear_model # Function to create linear regression model\n",
        "from sklearn.metrics import mean_squared_error, r2_score # Functions used to evaluate models"
      ],
      "execution_count": 0,
      "outputs": []
    },
    {
      "cell_type": "markdown",
      "metadata": {
        "id": "nvS1F38a1Ko9",
        "colab_type": "text"
      },
      "source": [
        "The purpose of partitioning the dataset into a training and testing set is to be able to tune (or fit the parameters) the model using the training set and evaluate the quality of the model using different samples via the testing set. This provides meaningful insight in the model's performance  with out the need for collecting more data. \n",
        "\n",
        "![](https://github.com/vrtompki/Linear_Regression_Tutorial/blob/master/images/fig-holdout.png?raw=1)\n",
        "\n",
        "The `train_test_split` from `sklearn` separates the data and classes into the two sets by randomly assigning samples to either the training set or the testing set:"
      ]
    },
    {
      "cell_type": "code",
      "metadata": {
        "id": "tWeEnNSk1Ko-",
        "colab_type": "code",
        "colab": {}
      },
      "source": [
        "# Partition the dataset into training and testing subset\n",
        "xTrain, xTest, yTrain, yTest = train_test_split(xTrain_best, # First argument is the observation set\n",
        "                                                sampleData_Y, # Second is the class set\n",
        "                                                test_size=0.33, # Use 33% of the samples for testing\n",
        "                                                random_state=42) # The random state tells the function to use the \n",
        "                                                                 # same random samples whenever its assigned the \n",
        "                                                                 # number 42."
      ],
      "execution_count": 0,
      "outputs": []
    },
    {
      "cell_type": "code",
      "metadata": {
        "scrolled": true,
        "id": "w1saz7Oz1KpC",
        "colab_type": "code",
        "outputId": "8075abc7-4c58-4eec-a888-01501e277da6",
        "colab": {
          "base_uri": "https://localhost:8080/",
          "height": 195
        }
      },
      "source": [
        "xTrain.head()"
      ],
      "execution_count": 0,
      "outputs": [
        {
          "output_type": "execute_result",
          "data": {
            "text/html": [
              "<div>\n",
              "<style scoped>\n",
              "    .dataframe tbody tr th:only-of-type {\n",
              "        vertical-align: middle;\n",
              "    }\n",
              "\n",
              "    .dataframe tbody tr th {\n",
              "        vertical-align: top;\n",
              "    }\n",
              "\n",
              "    .dataframe thead th {\n",
              "        text-align: right;\n",
              "    }\n",
              "</style>\n",
              "<table border=\"1\" class=\"dataframe\">\n",
              "  <thead>\n",
              "    <tr style=\"text-align: right;\">\n",
              "      <th></th>\n",
              "      <th>GRE Score</th>\n",
              "      <th>GPA</th>\n",
              "    </tr>\n",
              "  </thead>\n",
              "  <tbody>\n",
              "    <tr>\n",
              "      <th>471</th>\n",
              "      <td>311</td>\n",
              "      <td>3.236</td>\n",
              "    </tr>\n",
              "    <tr>\n",
              "      <th>26</th>\n",
              "      <td>322</td>\n",
              "      <td>3.520</td>\n",
              "    </tr>\n",
              "    <tr>\n",
              "      <th>7</th>\n",
              "      <td>308</td>\n",
              "      <td>3.160</td>\n",
              "    </tr>\n",
              "    <tr>\n",
              "      <th>453</th>\n",
              "      <td>319</td>\n",
              "      <td>3.504</td>\n",
              "    </tr>\n",
              "    <tr>\n",
              "      <th>108</th>\n",
              "      <td>331</td>\n",
              "      <td>3.752</td>\n",
              "    </tr>\n",
              "  </tbody>\n",
              "</table>\n",
              "</div>"
            ],
            "text/plain": [
              "     GRE Score    GPA\n",
              "471        311  3.236\n",
              "26         322  3.520\n",
              "7          308  3.160\n",
              "453        319  3.504\n",
              "108        331  3.752"
            ]
          },
          "metadata": {
            "tags": []
          },
          "execution_count": 24
        }
      ]
    },
    {
      "cell_type": "markdown",
      "metadata": {
        "id": "Xt_hxmNC1KpE",
        "colab_type": "text"
      },
      "source": [
        "When tuning and testing a model on the same samples, evalution results could be misleading. Two such cases are over/underfitting. Overfitting is when your model performs really well on a specific dataset, but not so well with others. Underfitting is when the model can perform well using *any* dataset samples. In both cases the model is said to lack ***generalizability***, or the ability to perform adequately on a variety of datasets. This can be deterimental when trying to obtain accurate predictions for newly acquired samples.  \n",
        "\n",
        "Our data is ready for analysis but we still have no model! We can create the linear regression model using a single line of code from `sklearn`:"
      ]
    },
    {
      "cell_type": "code",
      "metadata": {
        "id": "Rcy7EMI51KpF",
        "colab_type": "code",
        "colab": {}
      },
      "source": [
        "# Import the function to create linear regression model from the sklearn library\n",
        "from sklearn import linear_model \n",
        "# Create linear regression model and assign it to the variable 'linModel'\n",
        "linModel = linear_model.LinearRegression()"
      ],
      "execution_count": 0,
      "outputs": []
    },
    {
      "cell_type": "markdown",
      "metadata": {
        "id": "wp_h0iOs1KpK",
        "colab_type": "text"
      },
      "source": [
        "It is as easy as that. If you are curious about how to use different models, I implore you to visit the `sklearn` webpage previously linked. For more information on the model we just instantiated, such as parameters we could have used to characterize it, methods/functions it uses, etc., Python has a `help()` command. To use `help()`, type the command with function or object in query surrounded by single quotes inside the parentheses, like so:"
      ]
    },
    {
      "cell_type": "code",
      "metadata": {
        "deletable": false,
        "editable": false,
        "tags": [
          "hide_output"
        ],
        "id": "494TISsf1KpL",
        "colab_type": "code",
        "outputId": "1357cd17-7152-44b9-d01f-3a99661d6467",
        "colab": {
          "base_uri": "https://localhost:8080/",
          "height": 3310
        }
      },
      "source": [
        "help('sklearn.linear_model.base.LinearRegression')"
      ],
      "execution_count": 0,
      "outputs": [
        {
          "output_type": "stream",
          "text": [
            "Help on class LinearRegression in sklearn.linear_model.base:\n",
            "\n",
            "sklearn.linear_model.base.LinearRegression = class LinearRegression(LinearModel, sklearn.base.RegressorMixin)\n",
            " |  Ordinary least squares Linear Regression.\n",
            " |  \n",
            " |  Parameters\n",
            " |  ----------\n",
            " |  fit_intercept : boolean, optional, default True\n",
            " |      whether to calculate the intercept for this model. If set\n",
            " |      to False, no intercept will be used in calculations\n",
            " |      (e.g. data is expected to be already centered).\n",
            " |  \n",
            " |  normalize : boolean, optional, default False\n",
            " |      This parameter is ignored when ``fit_intercept`` is set to False.\n",
            " |      If True, the regressors X will be normalized before regression by\n",
            " |      subtracting the mean and dividing by the l2-norm.\n",
            " |      If you wish to standardize, please use\n",
            " |      :class:`sklearn.preprocessing.StandardScaler` before calling ``fit`` on\n",
            " |      an estimator with ``normalize=False``.\n",
            " |  \n",
            " |  copy_X : boolean, optional, default True\n",
            " |      If True, X will be copied; else, it may be overwritten.\n",
            " |  \n",
            " |  n_jobs : int or None, optional (default=None)\n",
            " |      The number of jobs to use for the computation. This will only provide\n",
            " |      speedup for n_targets > 1 and sufficient large problems.\n",
            " |      ``None`` means 1 unless in a :obj:`joblib.parallel_backend` context.\n",
            " |      ``-1`` means using all processors. See :term:`Glossary <n_jobs>`\n",
            " |      for more details.\n",
            " |  \n",
            " |  Attributes\n",
            " |  ----------\n",
            " |  coef_ : array, shape (n_features, ) or (n_targets, n_features)\n",
            " |      Estimated coefficients for the linear regression problem.\n",
            " |      If multiple targets are passed during the fit (y 2D), this\n",
            " |      is a 2D array of shape (n_targets, n_features), while if only\n",
            " |      one target is passed, this is a 1D array of length n_features.\n",
            " |  \n",
            " |  intercept_ : array\n",
            " |      Independent term in the linear model.\n",
            " |  \n",
            " |  Examples\n",
            " |  --------\n",
            " |  >>> import numpy as np\n",
            " |  >>> from sklearn.linear_model import LinearRegression\n",
            " |  >>> X = np.array([[1, 1], [1, 2], [2, 2], [2, 3]])\n",
            " |  >>> # y = 1 * x_0 + 2 * x_1 + 3\n",
            " |  >>> y = np.dot(X, np.array([1, 2])) + 3\n",
            " |  >>> reg = LinearRegression().fit(X, y)\n",
            " |  >>> reg.score(X, y)\n",
            " |  1.0\n",
            " |  >>> reg.coef_\n",
            " |  array([1., 2.])\n",
            " |  >>> reg.intercept_ # doctest: +ELLIPSIS\n",
            " |  3.0000...\n",
            " |  >>> reg.predict(np.array([[3, 5]]))\n",
            " |  array([16.])\n",
            " |  \n",
            " |  Notes\n",
            " |  -----\n",
            " |  From the implementation point of view, this is just plain Ordinary\n",
            " |  Least Squares (scipy.linalg.lstsq) wrapped as a predictor object.\n",
            " |  \n",
            " |  Method resolution order:\n",
            " |      LinearRegression\n",
            " |      LinearModel\n",
            " |      abc.NewBase\n",
            " |      sklearn.base.BaseEstimator\n",
            " |      sklearn.base.RegressorMixin\n",
            " |      builtins.object\n",
            " |  \n",
            " |  Methods defined here:\n",
            " |  \n",
            " |  __init__(self, fit_intercept=True, normalize=False, copy_X=True, n_jobs=None)\n",
            " |      Initialize self.  See help(type(self)) for accurate signature.\n",
            " |  \n",
            " |  fit(self, X, y, sample_weight=None)\n",
            " |      Fit linear model.\n",
            " |      \n",
            " |      Parameters\n",
            " |      ----------\n",
            " |      X : array-like or sparse matrix, shape (n_samples, n_features)\n",
            " |          Training data\n",
            " |      \n",
            " |      y : array_like, shape (n_samples, n_targets)\n",
            " |          Target values. Will be cast to X's dtype if necessary\n",
            " |      \n",
            " |      sample_weight : numpy array of shape [n_samples]\n",
            " |          Individual weights for each sample\n",
            " |      \n",
            " |          .. versionadded:: 0.17\n",
            " |             parameter *sample_weight* support to LinearRegression.\n",
            " |      \n",
            " |      Returns\n",
            " |      -------\n",
            " |      self : returns an instance of self.\n",
            " |  \n",
            " |  ----------------------------------------------------------------------\n",
            " |  Data and other attributes defined here:\n",
            " |  \n",
            " |  __abstractmethods__ = frozenset()\n",
            " |  \n",
            " |  ----------------------------------------------------------------------\n",
            " |  Methods inherited from LinearModel:\n",
            " |  \n",
            " |  predict(self, X)\n",
            " |      Predict using the linear model\n",
            " |      \n",
            " |      Parameters\n",
            " |      ----------\n",
            " |      X : array_like or sparse matrix, shape (n_samples, n_features)\n",
            " |          Samples.\n",
            " |      \n",
            " |      Returns\n",
            " |      -------\n",
            " |      C : array, shape (n_samples,)\n",
            " |          Returns predicted values.\n",
            " |  \n",
            " |  ----------------------------------------------------------------------\n",
            " |  Methods inherited from sklearn.base.BaseEstimator:\n",
            " |  \n",
            " |  __getstate__(self)\n",
            " |  \n",
            " |  __repr__(self)\n",
            " |      Return repr(self).\n",
            " |  \n",
            " |  __setstate__(self, state)\n",
            " |  \n",
            " |  get_params(self, deep=True)\n",
            " |      Get parameters for this estimator.\n",
            " |      \n",
            " |      Parameters\n",
            " |      ----------\n",
            " |      deep : boolean, optional\n",
            " |          If True, will return the parameters for this estimator and\n",
            " |          contained subobjects that are estimators.\n",
            " |      \n",
            " |      Returns\n",
            " |      -------\n",
            " |      params : mapping of string to any\n",
            " |          Parameter names mapped to their values.\n",
            " |  \n",
            " |  set_params(self, **params)\n",
            " |      Set the parameters of this estimator.\n",
            " |      \n",
            " |      The method works on simple estimators as well as on nested objects\n",
            " |      (such as pipelines). The latter have parameters of the form\n",
            " |      ``<component>__<parameter>`` so that it's possible to update each\n",
            " |      component of a nested object.\n",
            " |      \n",
            " |      Returns\n",
            " |      -------\n",
            " |      self\n",
            " |  \n",
            " |  ----------------------------------------------------------------------\n",
            " |  Data descriptors inherited from sklearn.base.BaseEstimator:\n",
            " |  \n",
            " |  __dict__\n",
            " |      dictionary for instance variables (if defined)\n",
            " |  \n",
            " |  __weakref__\n",
            " |      list of weak references to the object (if defined)\n",
            " |  \n",
            " |  ----------------------------------------------------------------------\n",
            " |  Methods inherited from sklearn.base.RegressorMixin:\n",
            " |  \n",
            " |  score(self, X, y, sample_weight=None)\n",
            " |      Returns the coefficient of determination R^2 of the prediction.\n",
            " |      \n",
            " |      The coefficient R^2 is defined as (1 - u/v), where u is the residual\n",
            " |      sum of squares ((y_true - y_pred) ** 2).sum() and v is the total\n",
            " |      sum of squares ((y_true - y_true.mean()) ** 2).sum().\n",
            " |      The best possible score is 1.0 and it can be negative (because the\n",
            " |      model can be arbitrarily worse). A constant model that always\n",
            " |      predicts the expected value of y, disregarding the input features,\n",
            " |      would get a R^2 score of 0.0.\n",
            " |      \n",
            " |      Parameters\n",
            " |      ----------\n",
            " |      X : array-like, shape = (n_samples, n_features)\n",
            " |          Test samples. For some estimators this may be a\n",
            " |          precomputed kernel matrix instead, shape = (n_samples,\n",
            " |          n_samples_fitted], where n_samples_fitted is the number of\n",
            " |          samples used in the fitting for the estimator.\n",
            " |      \n",
            " |      y : array-like, shape = (n_samples) or (n_samples, n_outputs)\n",
            " |          True values for X.\n",
            " |      \n",
            " |      sample_weight : array-like, shape = [n_samples], optional\n",
            " |          Sample weights.\n",
            " |      \n",
            " |      Returns\n",
            " |      -------\n",
            " |      score : float\n",
            " |          R^2 of self.predict(X) wrt. y.\n",
            "\n"
          ],
          "name": "stdout"
        }
      ]
    },
    {
      "cell_type": "markdown",
      "metadata": {
        "id": "e_63LA3S1KpS",
        "colab_type": "text"
      },
      "source": [
        "**(TODO) use the help function to find out more about `pandas.DataFrame`**"
      ]
    },
    {
      "cell_type": "code",
      "metadata": {
        "id": "Gf1QtsHp1Kpe",
        "colab_type": "code",
        "outputId": "77aeee0e-b028-4574-e144-392275d71dee",
        "colab": {
          "base_uri": "https://localhost:8080/",
          "height": 1663
        }
      },
      "source": [
        "# help('<package.module>'), pandas is the <package>, and DataFrame is the module\n",
        "help(pd)"
      ],
      "execution_count": 0,
      "outputs": [
        {
          "output_type": "stream",
          "text": [
            "Help on package pandas:\n",
            "\n",
            "NAME\n",
            "    pandas\n",
            "\n",
            "DESCRIPTION\n",
            "    pandas - a powerful data analysis and manipulation library for Python\n",
            "    =====================================================================\n",
            "    \n",
            "    **pandas** is a Python package providing fast, flexible, and expressive data\n",
            "    structures designed to make working with \"relational\" or \"labeled\" data both\n",
            "    easy and intuitive. It aims to be the fundamental high-level building block for\n",
            "    doing practical, **real world** data analysis in Python. Additionally, it has\n",
            "    the broader goal of becoming **the most powerful and flexible open source data\n",
            "    analysis / manipulation tool available in any language**. It is already well on\n",
            "    its way toward this goal.\n",
            "    \n",
            "    Main Features\n",
            "    -------------\n",
            "    Here are just a few of the things that pandas does well:\n",
            "    \n",
            "      - Easy handling of missing data in floating point as well as non-floating\n",
            "        point data\n",
            "      - Size mutability: columns can be inserted and deleted from DataFrame and\n",
            "        higher dimensional objects\n",
            "      - Automatic and explicit data alignment: objects can  be explicitly aligned\n",
            "        to a set of labels, or the user can simply ignore the labels and let\n",
            "        `Series`, `DataFrame`, etc. automatically align the data for you in\n",
            "        computations\n",
            "      - Powerful, flexible group by functionality to perform split-apply-combine\n",
            "        operations on data sets, for both aggregating and transforming data\n",
            "      - Make it easy to convert ragged, differently-indexed data in other Python\n",
            "        and NumPy data structures into DataFrame objects\n",
            "      - Intelligent label-based slicing, fancy indexing, and subsetting of large\n",
            "        data sets\n",
            "      - Intuitive merging and joining data sets\n",
            "      - Flexible reshaping and pivoting of data sets\n",
            "      - Hierarchical labeling of axes (possible to have multiple labels per tick)\n",
            "      - Robust IO tools for loading data from flat files (CSV and delimited),\n",
            "        Excel files, databases, and saving/loading data from the ultrafast HDF5\n",
            "        format\n",
            "      - Time series-specific functionality: date range generation and frequency\n",
            "        conversion, moving window statistics, moving window linear regressions,\n",
            "        date shifting and lagging, etc.\n",
            "\n",
            "PACKAGE CONTENTS\n",
            "    _libs (package)\n",
            "    _version\n",
            "    api (package)\n",
            "    compat (package)\n",
            "    computation (package)\n",
            "    conftest\n",
            "    core (package)\n",
            "    errors (package)\n",
            "    formats (package)\n",
            "    io (package)\n",
            "    json\n",
            "    lib\n",
            "    parser\n",
            "    plotting (package)\n",
            "    stats (package)\n",
            "    testing\n",
            "    tests (package)\n",
            "    tools (package)\n",
            "    tseries (package)\n",
            "    tslib\n",
            "    types (package)\n",
            "    util (package)\n",
            "\n",
            "SUBMODULES\n",
            "    _hashtable\n",
            "    _lib\n",
            "    _tslib\n",
            "    offsets\n",
            "\n",
            "DATA\n",
            "    IndexSlice = <pandas.core.indexing._IndexSlice object>\n",
            "    NaT = NaT\n",
            "    __docformat__ = 'restructuredtext'\n",
            "    datetools = <module 'pandas.core.datetools' from '/usr/local...ython3....\n",
            "    describe_option = <pandas.core.config.CallableDynamicDoc object>\n",
            "    get_option = <pandas.core.config.CallableDynamicDoc object>\n",
            "    json = <module 'pandas.json' from '/usr/local/lib/python3.6/dist-packa...\n",
            "    lib = <module 'pandas.lib' from '/usr/local/lib/python3.6/dist-package...\n",
            "    options = <pandas.core.config.DictWrapper object>\n",
            "    parser = <module 'pandas.parser' from '/usr/local/lib/python3.6/dist-p...\n",
            "    plot_params = {'xaxis.compat': False}\n",
            "    reset_option = <pandas.core.config.CallableDynamicDoc object>\n",
            "    set_option = <pandas.core.config.CallableDynamicDoc object>\n",
            "    tslib = <module 'pandas.tslib' from '/usr/local/lib/python3.6/dist-pac...\n",
            "\n",
            "VERSION\n",
            "    0.22.0\n",
            "\n",
            "FILE\n",
            "    /usr/local/lib/python3.6/dist-packages/pandas/__init__.py\n",
            "\n",
            "\n"
          ],
          "name": "stdout"
        }
      ]
    },
    {
      "cell_type": "markdown",
      "metadata": {
        "id": "JtrBS4c61Kpi",
        "colab_type": "text"
      },
      "source": [
        "# Checkpoint -  Formulating a Solution Starting with Some Data Prep\n",
        "* W separated the data into our response variable (what we want to predict) and observations (what we use to make predictions)\n",
        "* We used F-score regression to select the best features, and observed how correlation affects which features are informative.\n",
        "* We divided our dataset into training and testing samples to improve generalizability.\n",
        "* We created a linear regression instance to be trained and evaluated."
      ]
    },
    {
      "cell_type": "markdown",
      "metadata": {
        "id": "z9ZgOPsr1Kpl",
        "colab_type": "text"
      },
      "source": [
        "## Training Our Regression\n",
        "Now that model is created, we need to train it to find the best parameters for making predictions.  Recall that training the linear regression model is solving eq(4) for $\\beta$ using the training samples in both $X$ and $Y$. To train the `linModel` we need to use it's `fit` method. This method takes the supplied inputs as $X$ and $Y$. Here is how to train the model:"
      ]
    },
    {
      "cell_type": "code",
      "metadata": {
        "id": "kgtccmpn1Kpn",
        "colab_type": "code",
        "outputId": "5c1db4e0-b174-41bf-cc3f-25d9cdba1011",
        "colab": {
          "base_uri": "https://localhost:8080/",
          "height": 50
        }
      },
      "source": [
        "# Train the model using the randomly selected samples from the train_test_split function\n",
        "linModel.fit(X=xTrain.values, y=yTrain.values)"
      ],
      "execution_count": 0,
      "outputs": [
        {
          "output_type": "execute_result",
          "data": {
            "text/plain": [
              "LinearRegression(copy_X=True, fit_intercept=True, n_jobs=None,\n",
              "         normalize=False)"
            ]
          },
          "metadata": {
            "tags": []
          },
          "execution_count": 28
        }
      ]
    },
    {
      "cell_type": "markdown",
      "metadata": {
        "id": "VL2hbARJ1Kps",
        "colab_type": "text"
      },
      "source": [
        "## Testing Our Regression\n",
        "During the testing phase we supply the model with samples it has not seen to evaluate its performance on data that was not used to train it. Testing will inform modellers how accurate the model may perform on newly acquired samples. The following line is the command to test the linear regression model that was previously tuned: "
      ]
    },
    {
      "cell_type": "code",
      "metadata": {
        "id": "EVypT-X21Kpu",
        "colab_type": "code",
        "colab": {}
      },
      "source": [
        "# Test the model\n",
        "y_predLin = linModel.predict(xTest.values)"
      ],
      "execution_count": 0,
      "outputs": []
    },
    {
      "cell_type": "markdown",
      "metadata": {
        "id": "XU0g_deN1Kpx",
        "colab_type": "text"
      },
      "source": [
        "**(TODO) View the prediction results to verify the model works**"
      ]
    },
    {
      "cell_type": "code",
      "metadata": {
        "id": "t1_Mk18E1Kpx",
        "colab_type": "code",
        "outputId": "8a8b2846-64bf-4c13-f646-12f25741f4fb",
        "colab": {
          "base_uri": "https://localhost:8080/",
          "height": 50
        }
      },
      "source": [
        "df_Pred = pd.DataFrame(y_predLin)\n",
        "print(df_Pred.mean())"
      ],
      "execution_count": 0,
      "outputs": [
        {
          "output_type": "stream",
          "text": [
            "0    0.719064\n",
            "dtype: float64\n"
          ],
          "name": "stdout"
        }
      ]
    },
    {
      "cell_type": "markdown",
      "metadata": {
        "id": "VfX2coPd1Kpz",
        "colab_type": "text"
      },
      "source": [
        "# Step 4: How Did We Do?\n",
        "![Pred Analysis Flow4](https://github.com/vrtompki/Linear_Regression_Tutorial/blob/master/images/Predictive_Analysis_Flow5.png?raw=1)"
      ]
    },
    {
      "cell_type": "markdown",
      "metadata": {
        "id": "Wl84Kv8c1Kpz",
        "colab_type": "text"
      },
      "source": [
        "## The Metrics for Evaluating Performance\n",
        "Now that we have a linear regression model we need to see how accurate it is. We can do this by calculating the difference between our predictions made on the test set, and their actual chance of admittance using the `mean_squared_error` module from the `sckit-learn` package."
      ]
    },
    {
      "cell_type": "code",
      "metadata": {
        "id": "1lRBehSL1Kp1",
        "colab_type": "code",
        "outputId": "beb7db8e-57c8-4bfb-fbff-b771ff2ea327",
        "colab": {
          "base_uri": "https://localhost:8080/",
          "height": 34
        }
      },
      "source": [
        "mseLin = mean_squared_error(yTest.values, y_predLin)\n",
        "print('The Mean Squared Error = {0:.3f}'.format(mseLin))"
      ],
      "execution_count": 0,
      "outputs": [
        {
          "output_type": "stream",
          "text": [
            "The Mean Squared Error = 0.004\n"
          ],
          "name": "stdout"
        }
      ]
    },
    {
      "cell_type": "markdown",
      "metadata": {
        "id": "0WpfPZQT1Kp5",
        "colab_type": "text"
      },
      "source": [
        "### The MSE\n",
        "The Mean Squared Error (MSE) was 0.045, or 4.5%, which means our accuracy is approximately 96.5%. That means our model is decent. Depending on the application, a \"good\" error result is relative to the task and the dataset provided. For instance, medical diagnosis may wish to have an accuracy closer to 98%. Considering we only want to know what it takes to become a graduate student, our accuracy is good enough."
      ]
    },
    {
      "cell_type": "markdown",
      "metadata": {
        "id": "LJECF5Sz1Kp6",
        "colab_type": "text"
      },
      "source": [
        "### The $R^{2}$\n",
        "Another metric used for model evaluation is $R^{2}$, which tells you how much of the error variance (the spread of error around the average error) that the model is able to cover. How well does the model fit the data? It is the amount of explained variance compared to the total variance. Another way of saying this is, what is the average distances of **ALL** the points from our line. This idea is captured in the image below.  We can use `r2_score` to calculate this value. Once agian, the significance of this value is application specific, so there is no, one, good $R^{2}$ value that works for all cases.\n",
        "\n",
        "![R2 Explained](https://github.com/vrtompki/Linear_Regression_Tutorial/blob/master/images/r2_explained.png?raw=1)"
      ]
    },
    {
      "cell_type": "code",
      "metadata": {
        "id": "wOyps5f21Kp7",
        "colab_type": "code",
        "outputId": "fba3282e-6a6f-4488-f0a8-4730caec444c",
        "colab": {
          "base_uri": "https://localhost:8080/",
          "height": 34
        }
      },
      "source": [
        "# Approximate the variance of error\n",
        "r2_Lin = r2_score(yTest.values, y_predLin)\n",
        "print('Goodness of Fit: {0:.3f}'.format(r2_Lin))"
      ],
      "execution_count": 0,
      "outputs": [
        {
          "output_type": "stream",
          "text": [
            "Goodness of Fit: 0.796\n"
          ],
          "name": "stdout"
        }
      ]
    },
    {
      "cell_type": "markdown",
      "metadata": {
        "id": "hOjpF4Dd1KqI",
        "colab_type": "text"
      },
      "source": [
        "It is important to note that a \"good\" $R^{2}$ is field and application specific. There is no single good number, so it is best to combine this with other metrics such as the MSE."
      ]
    },
    {
      "cell_type": "markdown",
      "metadata": {
        "id": "ploqYE9H1KqJ",
        "colab_type": "text"
      },
      "source": [
        "### The Model Coefficients\n",
        "Now that we have an idea of the model's performance we can observe the parameters, or coefficients, of the linear regression. "
      ]
    },
    {
      "cell_type": "code",
      "metadata": {
        "id": "7rdxOb5j1KqM",
        "colab_type": "code",
        "outputId": "a3c8dd56-c35b-40cb-f3da-2314d8c2fcc0",
        "colab": {
          "base_uri": "https://localhost:8080/",
          "height": 34
        }
      },
      "source": [
        "# The model's coefficients\n",
        "print('Coefficients(slope, bias): ', linModel.coef_)"
      ],
      "execution_count": 0,
      "outputs": [
        {
          "output_type": "stream",
          "text": [
            "Coefficients(slope, bias):  [0.0034397  0.38717906]\n"
          ],
          "name": "stdout"
        }
      ]
    },
    {
      "cell_type": "markdown",
      "metadata": {
        "id": "LGNuzisk1KqP",
        "colab_type": "text"
      },
      "source": [
        "## Examining the Effects of Each Variable\n",
        "The linear regression model previously created uses two features to approximate a single line. This can be difficult to visualize, so another means of examining the impact of the features on the regression is by seeing how the regression fits the two features individually."
      ]
    },
    {
      "cell_type": "code",
      "metadata": {
        "id": "atZ-rjS61KqR",
        "colab_type": "code",
        "outputId": "1f672c75-94ef-4e44-8df0-2197235745dc",
        "colab": {
          "base_uri": "https://localhost:8080/",
          "height": 1125
        }
      },
      "source": [
        "import numpy as np\n",
        "fig, axes = plt.subplots(1,len(xTrain.columns.values),sharey=True,constrained_layout=True,figsize=(15,15))\n",
        "for i,e in enumerate(xTrain.columns):\n",
        "  linModel.fit(xTrain[e].values[:,np.newaxis], yTrain.values)\n",
        "  axes[i].set_title(\"Linear Regression of Feature\", fontsize=14)\n",
        "  axes[i].set_xlabel(str(e), fontsize=14)\n",
        "  axes[i].set_ylabel('Prob. of Admit.', fontsize=14)\n",
        "  axes[i].scatter(xTrain[e].values[:,np.newaxis], yTrain.values,color='b')\n",
        "  axes[i].plot(xTrain[e].values[:,np.newaxis], \n",
        "  linModel.predict(xTrain[e].values[:,np.newaxis]),color='k', linewidth=2)\n",
        "plt.show()"
      ],
      "execution_count": 0,
      "outputs": [
        {
          "output_type": "display_data",
          "data": {
            "image/png": "[encoded data removed]",
            "text/plain": [
              "<Figure size 1080x1080 with 2 Axes>"
            ]
          },
          "metadata": {
            "tags": []
          }
        }
      ]
    },
    {
      "cell_type": "markdown",
      "metadata": {
        "id": "NfE1XHSZ1KqY",
        "colab_type": "text"
      },
      "source": [
        "# Checkpoint - Assessing the Results"
      ]
    },
    {
      "cell_type": "markdown",
      "metadata": {
        "id": "24nqIdkR1KqZ",
        "colab_type": "text"
      },
      "source": [
        "## Assessing the Results: Building on The Base Model\n",
        "* Validating the model with an additional subset\n",
        "* Cross-validation\n",
        "* More rigorous feature engineering\n",
        "* Other forms of regression"
      ]
    },
    {
      "cell_type": "markdown",
      "metadata": {
        "id": "_dqtUSDU1Kqa",
        "colab_type": "text"
      },
      "source": [
        "# Try It Out!"
      ]
    },
    {
      "cell_type": "code",
      "metadata": {
        "id": "lxbRXC4X1Kqa",
        "colab_type": "code",
        "colab": {}
      },
      "source": [
        "feature1 = \n",
        "feature2 =\n",
        "sample = np.array([[feature1, feature2]]).reshape(-1, 1)\n",
        "y = linModel.predict(sample)\n",
        "y"
      ],
      "execution_count": 0,
      "outputs": []
    },
    {
      "cell_type": "markdown",
      "metadata": {
        "id": "DHwEHGxF1Kqc",
        "colab_type": "text"
      },
      "source": [
        "# Finding Additional Resources\n",
        "Now that you have completed this workshop, you should be able to replicate the this fundamental process for predictive analysis! This workshop was developed to wet your data science palatte! If you want to learn more feel free to check out a few of my favorite resources for learning predictive analysis and other data science topics:\n",
        "\n",
        "## Books\n",
        "* <a href=\"https://www.amazon.com/Linear-Algebra-Step-Kuldeep-Singh/dp/0199654441/ref=sr_1_5?crid=U1E4DNIRTYZ5&keywords=linear+algebra&qid=1553266485&s=books&sprefix=linear+%2Cstripbooks%2C209&sr=1-5\"> Linear Algebra: Step by Step</a>\n",
        "* <a href=\"https://www.amazon.com/Deep-Learning-Adaptive-Computation-Machine/dp/0262035618/ref=sr_1_1?crid=Z1CEM1E8LWHH&keywords=deep+learning+ian+goodfellow&qid=1553265449&s=books&sprefix=deep+learning%2Cstripbooks%2C327&sr=1-1\"> Deep Learning Adaptive Computation Machine</a>\n",
        "* <a href=\"https://www.crcpress.com/Foundations-of-Predictive-Analytics/Wu-Coggeshall/p/book/9781439869468\"> Foundations of Predictive Analysis</a>\n",
        "* <a href=\"https://www.amazon.com/Python-Data-Science-Handbook-Essential/dp/1491912057\"> Python Data Science Handbook</a>\n",
        "\n",
        "## Blogs and Websites\n",
        "* <a href=\"https://towardsdatascience.com/\"> Towards Data Science</a>\n",
        "* <a href=\"https://www.analyticsvidhya.com/\"> Analytics Vidhya</a>\n",
        "* <a href=\"https://datascience.stackexchange.com/\"> Data Science Stack Exchange</a>\n",
        "* <a href=\"https://fivethirtyeight.com/\"> FiveThirtyEight</a>\n",
        "\n",
        "## Workshops and Massive Open Online Courses (MOOCs)\n",
        "* <a href=\"https://www.lib.ncsu.edu/workshops/upcoming\"> NCSU Libraries Data and Viz Workshops</a>\n",
        "* <a href=\"https://www.datacamp.com/home\"> DataCamp</a>\n",
        "* <a href=\"https://www.coursera.org/\"> Coursera</a>\n",
        "* <a href=\"https://www.edx.org/\"> edX</a>\n"
      ]
    },
    {
      "cell_type": "markdown",
      "metadata": {
        "id": "_m4fi79D1Kqo",
        "colab_type": "text"
      },
      "source": [
        "# Appendix\n",
        "## Some Definitions\n",
        "Here I will define some terminology. It is common to find multiple definitions for terminology in any capacity, but especially in data science. This stems from the interdiscplinary aspect of the field where different fields have their respective definitions. There is nothing inherently wrong with this, so long as discussion leaves all parties with a cohesive understanding.\n",
        "\n",
        "***Model*** - A simulation, or representation meant to provide insight on the nature, characteristics, behaviors, and implications on the object or system it is meant to depict.\n",
        "\n",
        "***Algorithm*** - Although various definitions of algorithms exist, for the purpose of these tutorials we will subscribe to algoritms meaning a set of mathematical steps, or equations, to perform a task. Working under this definition implies that a model is a composition of algorithms. This definition is a personal preference, and used to estabilsh terminology confluence within the context of this tutorial.\n",
        "\n",
        "***Predictive Analysis*** - the creation and use of a model to derive meaning or speculation as to the state or behavior of a an object or system under certain constraints.\n",
        "\n",
        "***Exploratory Analysis*** - the process of determining underlining patterns and attributes of a data using statistical, heuristics, or other means not necessarily using a model.\n",
        "\n",
        "## Intro to the Math behind Linear Regressions\n",
        "Remember the formula in eq(1)? That was the algebraic equation for the response variable, where y is the response variable we want to model, a is the parameter we want to find to best map our term(s) x to the response, and b is noise that is inherent to the data. For the sake of simplicity, we can think of a response variable in relation to a single term so that we can better understand the intuition using algebra, but it is important to note that the aforementioned variables are vectors and matrices when dealing with multiple linear regressions which requires matrix algebra.  \n",
        "\n",
        "$$ \\begin{align}\n",
        "Y - \\epsilon &= \\beta X  \\\\\n",
        "(Y - \\epsilon)/X &= \\beta\n",
        "\\end{align} $$\n",
        "\n",
        "Since data is represented primarily in vectors in matrices the actual formulation would look slightly different. Let's draw some comparisons between the single variable notation and matrix notation and if you are already comfortable with matrix algebra feel free to skip ahead.\n",
        "\n",
        "### Brief Introduction to Matrix Algebra \n",
        "For the purpose of this lesson, matrices will be denoted by a captial letter. Dividing one matrix by another is equivalent to multiplying the matrix that would be the numerator by the inverse of the matrix that would be the denomator.  \n",
        "\n",
        "$$ \\frac{a}{x} \\leftrightarrow {X^{ - 1}}A \\\\ $$\n",
        "\n",
        "Squaring a matrix is equivalent to multiplying a matrix by its inverse.\n",
        "\n",
        "$$ {x^2} \\leftrightarrow {X^T}X $$\n",
        "\n",
        "The identity matrix, $I$, is a square matrix (the number of rows is equal to the number of columns) where the diagonal entries are all 1. So a 2 by 2 identity matrix would look as follows:\n",
        "\n",
        "$$  I \\in {\\mathbb{R}^{2x2}} = \\left[ \n",
        "{\\begin{array}{*{20}{c}}\n",
        "  1&0 \\\\ \n",
        "  0&1 \n",
        "\\end{array}} \\right] \\\\ \n",
        "  Y = X\\beta  + \\varepsilon  \\\\ $$\n",
        "  \n",
        "### Linear Regression via Ordinary Least Squares\n",
        "Now that we know the notation we can explore eq(1) in terms of what the data actually looks like. Rewriting eq(1) using matrix notation yields:\n",
        "\n",
        "$$ Y = X\\beta  + \\varepsilon $$ (2)\n",
        "\n",
        "Here, $\\beta$ are the coefficients of the linear regression model that need to be deterimined, and $\\varepsilon$ is the noise or error apparent in our observations. $X$ is now a matrix of our observations, and $Y$ is our target or response term matrix. We now want to find a $\\beta$ such that average error between what such as that the average error given the observations is zero, or mathematically:\n",
        "\n",
        "$$ E[\\varepsilon |X] = 0 \\\\ $$\n",
        "\n",
        "This suggests that the line taht best describes our response term would be one such that the average distance from all observations is zero. It is possible to find such a line by finding out the relationship between $\\beta$ and $\\varepsilon$. This method is refered to as minmizing the error sum of squares (SSE or RSS or ESS):\n",
        "$$ SSE = {\\varepsilon ^T}\\varepsilon  \\\\ $$ \n",
        "Where $\\varepsilon$ is:\n",
        "$$ \\varepsilon  = Y - X\\beta  \\\\ $$\n",
        "and\n",
        "$$ {\\varepsilon ^T} = {(Y - X\\beta )^T} \\\\ $$\n",
        "Therefore, SSE is equal to:\n",
        "$$ SSE = {(Y - X\\beta )^T}(Y - X\\beta )  (3)\\\\ $$\n",
        "\n",
        "### Error Sum of Squares and Ordinary Least Squares\n",
        "Error sum of squares (ESS or SSE) is exactly what it sounds like. It is the a summation of all the differences between the predicted results and the actual results squared. The term itself describes the variance, or how spread out the error of the model is. If the variance is large, then the model is almost no better than choosing a prediction at random, so we want to minimize the SSE such that it is zero. Since the only term the model can actually change is the fitting parameters, we need to find out how the SSE changes when the parameters being fitted change and set resulting equation equal to zero. The derivation below shows setting the first derivative of SSE with respect of $\\beta$ using eq(3):\n",
        "\n",
        "$$\\begin{align}\n",
        "  \\frac{{\\partial SSE}}{{\\partial \\beta }} &= 2[({X^T}X)\\beta  - {X^T}Y] \\\\ \n",
        "   &= 2{X^T}(X\\beta  - Y) \\\\ \n",
        "   &= 2{X^T}(\\hat Y - Y) \\\\ \n",
        "  0 &= 20[({X^T}X)\\beta  - {X^T}Y] \\\\ \n",
        "  0 &= ({X^T}X)\\beta  - {X^T}Y  \n",
        "\\end{align}$$ \n",
        "\n",
        "Now that we have the correct equation, we can solve for $\\beta$ in terms of $X$ and $Y$:\n",
        "\n",
        "$$ \\begin{align}\n",
        "0 &= ({X^T}X)\\beta  - {X^T}Y \\\\ \n",
        "{X^T}Y &= ({X^T}X)\\beta \\\\\n",
        "\\beta &= ({X^T}X)^{-1}({X^T}Y)\\qquad (4)\\\\\n",
        "\\end{align}$$\n",
        "\n",
        "This method of fitting $\\beta$ is now as finding the ordinary least squares estimator for $\\beta$. It is one way validate the fit of the model. Another method of evaluating the linear regression's ability to fit is by calculating the $R^{2}$ value or as it is known the coefficient of determination. It is used to quantitate how well the predictions can be calculated using the real data."
      ]
    },
    {
      "cell_type": "code",
      "metadata": {
        "id": "mGqX2d7c1Kqq",
        "colab_type": "code",
        "colab": {}
      },
      "source": [
        ""
      ],
      "execution_count": 0,
      "outputs": []
    }
  ]
}